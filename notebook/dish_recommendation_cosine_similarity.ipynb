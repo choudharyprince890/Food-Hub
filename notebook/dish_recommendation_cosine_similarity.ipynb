{
 "cells": [
  {
   "cell_type": "code",
   "execution_count": 9,
   "metadata": {},
   "outputs": [],
   "source": [
    "import pandas as pd \n",
    "import numpy as np\n",
    "from sklearn.feature_extraction.text import CountVectorizer\n",
    "from sklearn.metrics.pairwise import cosine_similarity"
   ]
  },
  {
   "cell_type": "code",
   "execution_count": 10,
   "metadata": {},
   "outputs": [],
   "source": [
    "df = pd.read_csv(\"../data/food_recommendation_cleaned_data.csv\")\n",
    "df1 = pd.read_csv(\"../data/food_prediction_cleaned_data.csv\")"
   ]
  },
  {
   "cell_type": "code",
   "execution_count": 11,
   "metadata": {},
   "outputs": [
    {
     "data": {
      "text/html": [
       "<div>\n",
       "<style scoped>\n",
       "    .dataframe tbody tr th:only-of-type {\n",
       "        vertical-align: middle;\n",
       "    }\n",
       "\n",
       "    .dataframe tbody tr th {\n",
       "        vertical-align: top;\n",
       "    }\n",
       "\n",
       "    .dataframe thead th {\n",
       "        text-align: right;\n",
       "    }\n",
       "</style>\n",
       "<table border=\"1\" class=\"dataframe\">\n",
       "  <thead>\n",
       "    <tr style=\"text-align: right;\">\n",
       "      <th></th>\n",
       "      <th>name</th>\n",
       "      <th>image_url</th>\n",
       "      <th>main_tag</th>\n",
       "      <th>description</th>\n",
       "    </tr>\n",
       "  </thead>\n",
       "  <tbody>\n",
       "    <tr>\n",
       "      <th>0</th>\n",
       "      <td>Thayir Semiya Recipe (Curd Semiya)</td>\n",
       "      <td>https://www.archanaskitchen.com/images/archana...</td>\n",
       "      <td>indian lunch vegetarian  vermicelli, dahiyogur...</td>\n",
       "      <td>Thayir Semiya or Curd Vermicelli is a quick di...</td>\n",
       "    </tr>\n",
       "    <tr>\n",
       "      <th>1</th>\n",
       "      <td>Thayir Semiya Recipe (Curd Semiya)</td>\n",
       "      <td>https://www.archanaskitchen.com/images/archana...</td>\n",
       "      <td>indian lunch vegetarian  vermicelli, dahiyogur...</td>\n",
       "      <td>Thayir Semiya or Curd Vermicelli is a quick di...</td>\n",
       "    </tr>\n",
       "    <tr>\n",
       "      <th>2</th>\n",
       "      <td>Chettinad Style Kara Kuzhambu Recipe with Pota...</td>\n",
       "      <td>https://www.archanaskitchen.com/images/archana...</td>\n",
       "      <td>southindian lunch vegetarian  fenugreekseeds, ...</td>\n",
       "      <td>Chettinad Style Kara Kuzhambu Recipe with Pot...</td>\n",
       "    </tr>\n",
       "    <tr>\n",
       "      <th>3</th>\n",
       "      <td>Goan Chana Ros Recipe (White Peas Curry)</td>\n",
       "      <td>https://www.archanaskitchen.com/images/archana...</td>\n",
       "      <td>goan lunch vegetarian  vatana, dhania, laung, ...</td>\n",
       "      <td>Goan Chana Ros is a vegetarian dish from Goan ...</td>\n",
       "    </tr>\n",
       "    <tr>\n",
       "      <th>4</th>\n",
       "      <td>Minced Meat And Egg Croquettes Recipe</td>\n",
       "      <td>https://www.archanaskitchen.com/images/archana...</td>\n",
       "      <td>northindian appetizer nonvegeterian  haldi, je...</td>\n",
       "      <td>The croquette is usually cigar shaped or cylin...</td>\n",
       "    </tr>\n",
       "  </tbody>\n",
       "</table>\n",
       "</div>"
      ],
      "text/plain": [
       "                                                name   \n",
       "0                 Thayir Semiya Recipe (Curd Semiya)  \\\n",
       "1                 Thayir Semiya Recipe (Curd Semiya)   \n",
       "2  Chettinad Style Kara Kuzhambu Recipe with Pota...   \n",
       "3           Goan Chana Ros Recipe (White Peas Curry)   \n",
       "4              Minced Meat And Egg Croquettes Recipe   \n",
       "\n",
       "                                           image_url   \n",
       "0  https://www.archanaskitchen.com/images/archana...  \\\n",
       "1  https://www.archanaskitchen.com/images/archana...   \n",
       "2  https://www.archanaskitchen.com/images/archana...   \n",
       "3  https://www.archanaskitchen.com/images/archana...   \n",
       "4  https://www.archanaskitchen.com/images/archana...   \n",
       "\n",
       "                                            main_tag   \n",
       "0  indian lunch vegetarian  vermicelli, dahiyogur...  \\\n",
       "1  indian lunch vegetarian  vermicelli, dahiyogur...   \n",
       "2  southindian lunch vegetarian  fenugreekseeds, ...   \n",
       "3  goan lunch vegetarian  vatana, dhania, laung, ...   \n",
       "4  northindian appetizer nonvegeterian  haldi, je...   \n",
       "\n",
       "                                         description  \n",
       "0  Thayir Semiya or Curd Vermicelli is a quick di...  \n",
       "1  Thayir Semiya or Curd Vermicelli is a quick di...  \n",
       "2   Chettinad Style Kara Kuzhambu Recipe with Pot...  \n",
       "3  Goan Chana Ros is a vegetarian dish from Goan ...  \n",
       "4  The croquette is usually cigar shaped or cylin...  "
      ]
     },
     "execution_count": 11,
     "metadata": {},
     "output_type": "execute_result"
    }
   ],
   "source": [
    "df.head(5)"
   ]
  },
  {
   "cell_type": "code",
   "execution_count": 12,
   "metadata": {},
   "outputs": [],
   "source": [
    "cv = CountVectorizer(max_features=5000)\n",
    "vector = cv.fit_transform(df['main_tag']).toarray()"
   ]
  },
  {
   "cell_type": "code",
   "execution_count": 13,
   "metadata": {},
   "outputs": [],
   "source": [
    "simimlarity = cosine_similarity(vector)"
   ]
  },
  {
   "cell_type": "code",
   "execution_count": 14,
   "metadata": {},
   "outputs": [
    {
     "data": {
      "text/plain": [
       "[(1, 1.0), (834, 1.0), (835, 1.0), (4082, 0.8249579113843053)]"
      ]
     },
     "execution_count": 14,
     "metadata": {},
     "output_type": "execute_result"
    }
   ],
   "source": [
    "sorted(list(enumerate(simimlarity[0])),reverse=True, key=lambda x:x[1])[1:5]"
   ]
  },
  {
   "cell_type": "code",
   "execution_count": null,
   "metadata": {},
   "outputs": [],
   "source": [
    "def recommend(name):\n",
    "    name_index = df[df['name'] == name].index[0]\n",
    "    distances = simimlarity[name_index]\n",
    "    dish_list = sorted(list(enumerate(distances)),reverse=True, key=lambda x:x[1])[1:6]\n",
    "    for a in dish_list:\n",
    "        print(df.iloc[a[0]]['name'])\n",
    "        # print(df.iloc[a[0]][['name','description']])\n",
    "\n",
    "    # return dish_list"
   ]
  },
  {
   "cell_type": "code",
   "execution_count": null,
   "metadata": {},
   "outputs": [
    {
     "ename": "NameError",
     "evalue": "name 'simimlarity' is not defined",
     "output_type": "error",
     "traceback": [
      "\u001b[1;31m---------------------------------------------------------------------------\u001b[0m",
      "\u001b[1;31mNameError\u001b[0m                                 Traceback (most recent call last)",
      "Cell \u001b[1;32mIn[8], line 1\u001b[0m\n\u001b[1;32m----> 1\u001b[0m recommend(\u001b[39m'\u001b[39;49m\u001b[39mBengali Chirer Pulao Recipe - Bengali Style Vegetable Poha\u001b[39;49m\u001b[39m'\u001b[39;49m)\n",
      "Cell \u001b[1;32mIn[7], line 3\u001b[0m, in \u001b[0;36mrecommend\u001b[1;34m(name)\u001b[0m\n\u001b[0;32m      1\u001b[0m \u001b[39mdef\u001b[39;00m \u001b[39mrecommend\u001b[39m(name):\n\u001b[0;32m      2\u001b[0m     name_index \u001b[39m=\u001b[39m df[df[\u001b[39m'\u001b[39m\u001b[39mname\u001b[39m\u001b[39m'\u001b[39m] \u001b[39m==\u001b[39m name]\u001b[39m.\u001b[39mindex[\u001b[39m0\u001b[39m]\n\u001b[1;32m----> 3\u001b[0m     distances \u001b[39m=\u001b[39m simimlarity[name_index]\n\u001b[0;32m      4\u001b[0m     dish_list \u001b[39m=\u001b[39m \u001b[39msorted\u001b[39m(\u001b[39mlist\u001b[39m(\u001b[39menumerate\u001b[39m(distances)),reverse\u001b[39m=\u001b[39m\u001b[39mTrue\u001b[39;00m, key\u001b[39m=\u001b[39m\u001b[39mlambda\u001b[39;00m x:x[\u001b[39m1\u001b[39m])[\u001b[39m1\u001b[39m:\u001b[39m6\u001b[39m]\n\u001b[0;32m      5\u001b[0m     \u001b[39mfor\u001b[39;00m a \u001b[39min\u001b[39;00m dish_list:\n",
      "\u001b[1;31mNameError\u001b[0m: name 'simimlarity' is not defined"
     ]
    }
   ],
   "source": [
    "recommend('Bengali Chirer Pulao Recipe - Bengali Style Vegetable Poha')"
   ]
  },
  {
   "cell_type": "code",
   "execution_count": null,
   "metadata": {},
   "outputs": [
    {
     "data": {
      "text/plain": [
       "'रोस्टेड गोभी रेसिपी - Roasted Cauliflower (Recipe In Hindi)'"
      ]
     },
     "execution_count": 9,
     "metadata": {},
     "output_type": "execute_result"
    }
   ],
   "source": [
    "df.iloc[3703]['name']"
   ]
  },
  {
   "cell_type": "code",
   "execution_count": null,
   "metadata": {},
   "outputs": [
    {
     "data": {
      "text/plain": [
       "3"
      ]
     },
     "execution_count": 10,
     "metadata": {},
     "output_type": "execute_result"
    }
   ],
   "source": [
    "df[df['name'] == \"Goan Chana Ros Recipe (White Peas Curry)\"].index[0]"
   ]
  }
 ],
 "metadata": {
  "kernelspec": {
   "display_name": "Python 3",
   "language": "python",
   "name": "python3"
  },
  "language_info": {
   "codemirror_mode": {
    "name": "ipython",
    "version": 3
   },
   "file_extension": ".py",
   "mimetype": "text/x-python",
   "name": "python",
   "nbconvert_exporter": "python",
   "pygments_lexer": "ipython3",
   "version": "3.11.3"
  },
  "orig_nbformat": 4
 },
 "nbformat": 4,
 "nbformat_minor": 2
}
