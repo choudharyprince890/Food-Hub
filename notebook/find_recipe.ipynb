{
 "cells": [
  {
   "cell_type": "code",
   "execution_count": 67,
   "metadata": {},
   "outputs": [],
   "source": [
    "# importing libraries\n",
    "import pandas as pd\n",
    "import numpy as np\n",
    "import matplotlib.pyplot as plt\n",
    "%matplotlib inline\n",
    "import seaborn as sns"
   ]
  },
  {
   "cell_type": "code",
   "execution_count": 68,
   "metadata": {},
   "outputs": [
    {
     "data": {
      "text/html": [
       "<div>\n",
       "<style scoped>\n",
       "    .dataframe tbody tr th:only-of-type {\n",
       "        vertical-align: middle;\n",
       "    }\n",
       "\n",
       "    .dataframe tbody tr th {\n",
       "        vertical-align: top;\n",
       "    }\n",
       "\n",
       "    .dataframe thead th {\n",
       "        text-align: right;\n",
       "    }\n",
       "</style>\n",
       "<table border=\"1\" class=\"dataframe\">\n",
       "  <thead>\n",
       "    <tr style=\"text-align: right;\">\n",
       "      <th></th>\n",
       "      <th>name</th>\n",
       "      <th>image_url</th>\n",
       "      <th>description</th>\n",
       "      <th>cuisine</th>\n",
       "      <th>course</th>\n",
       "      <th>diet</th>\n",
       "      <th>prep_time</th>\n",
       "      <th>ingredients</th>\n",
       "      <th>instructions</th>\n",
       "    </tr>\n",
       "  </thead>\n",
       "  <tbody>\n",
       "    <tr>\n",
       "      <th>0</th>\n",
       "      <td>Thayir Semiya Recipe (Curd Semiya)</td>\n",
       "      <td>https://www.archanaskitchen.com/images/archana...</td>\n",
       "      <td>Thayir Semiya or Curd Vermicelli is a quick di...</td>\n",
       "      <td>Indian</td>\n",
       "      <td>Lunch</td>\n",
       "      <td>Vegetarian</td>\n",
       "      <td>Total in 35 M</td>\n",
       "      <td>\\n\\n\\t\\t\\t\\t\\t\\t\\t \\t\\t1/2 cup Semiya (Vermice...</td>\n",
       "      <td>To begin making the Thayir Semiya recipe, firs...</td>\n",
       "    </tr>\n",
       "    <tr>\n",
       "      <th>1</th>\n",
       "      <td>Chettinad Style Kara Kuzhambu Recipe with Pota...</td>\n",
       "      <td>https://www.archanaskitchen.com/images/archana...</td>\n",
       "      <td>Chettinad Style Kara Kuzhambu Recipe with Pot...</td>\n",
       "      <td>South Indian Recipes</td>\n",
       "      <td>Lunch</td>\n",
       "      <td>Vegetarian</td>\n",
       "      <td>Total in 75 M</td>\n",
       "      <td>\\nFor ground masala\\n\\n\\t\\t\\t\\t\\t\\t\\t \\t\\t1/4 ...</td>\n",
       "      <td>To begin making the Chettinad Style Kara Kuzha...</td>\n",
       "    </tr>\n",
       "  </tbody>\n",
       "</table>\n",
       "</div>"
      ],
      "text/plain": [
       "                                                name   \n",
       "0                 Thayir Semiya Recipe (Curd Semiya)  \\\n",
       "1  Chettinad Style Kara Kuzhambu Recipe with Pota...   \n",
       "\n",
       "                                           image_url   \n",
       "0  https://www.archanaskitchen.com/images/archana...  \\\n",
       "1  https://www.archanaskitchen.com/images/archana...   \n",
       "\n",
       "                                         description               cuisine   \n",
       "0  Thayir Semiya or Curd Vermicelli is a quick di...                Indian  \\\n",
       "1   Chettinad Style Kara Kuzhambu Recipe with Pot...  South Indian Recipes   \n",
       "\n",
       "  course        diet      prep_time   \n",
       "0  Lunch  Vegetarian  Total in 35 M  \\\n",
       "1  Lunch  Vegetarian  Total in 75 M   \n",
       "\n",
       "                                         ingredients   \n",
       "0  \\n\\n\\t\\t\\t\\t\\t\\t\\t \\t\\t1/2 cup Semiya (Vermice...  \\\n",
       "1  \\nFor ground masala\\n\\n\\t\\t\\t\\t\\t\\t\\t \\t\\t1/4 ...   \n",
       "\n",
       "                                        instructions  \n",
       "0  To begin making the Thayir Semiya recipe, firs...  \n",
       "1  To begin making the Chettinad Style Kara Kuzha...  "
      ]
     },
     "execution_count": 68,
     "metadata": {},
     "output_type": "execute_result"
    }
   ],
   "source": [
    "# read data from indian_food \n",
    "df = pd.read_csv(\"../data/cuisines.csv\")\n",
    "df.head(2)"
   ]
  },
  {
   "cell_type": "code",
   "execution_count": 69,
   "metadata": {},
   "outputs": [
    {
     "data": {
      "text/plain": [
       "name             0\n",
       "image_url        0\n",
       "description      0\n",
       "cuisine          6\n",
       "course          38\n",
       "diet            37\n",
       "prep_time       10\n",
       "ingredients      0\n",
       "instructions     0\n",
       "dtype: int64"
      ]
     },
     "execution_count": 69,
     "metadata": {},
     "output_type": "execute_result"
    }
   ],
   "source": [
    "df.isnull().sum()"
   ]
  },
  {
   "cell_type": "code",
   "execution_count": 70,
   "metadata": {},
   "outputs": [
    {
     "data": {
      "text/plain": [
       "38"
      ]
     },
     "execution_count": 70,
     "metadata": {},
     "output_type": "execute_result"
    }
   ],
   "source": [
    "df['course'].isnull().values.sum()"
   ]
  },
  {
   "cell_type": "code",
   "execution_count": 71,
   "metadata": {},
   "outputs": [
    {
     "data": {
      "text/plain": [
       "<Axes: ylabel='Density'>"
      ]
     },
     "execution_count": 71,
     "metadata": {},
     "output_type": "execute_result"
    },
    {
     "data": {
      "image/png": "[encoded data removed]",
      "text/plain": [
       "<Figure size 640x480 with 1 Axes>"
      ]
     },
     "metadata": {},
     "output_type": "display_data"
    }
   ],
   "source": [
    "\n",
    "df['course'].value_counts().plot(kind='kde')"
   ]
  },
  {
   "cell_type": "code",
   "execution_count": 72,
   "metadata": {},
   "outputs": [],
   "source": [
    "# drop null values from course column\n",
    "df = df[df[\"course\"].notnull()]"
   ]
  },
  {
   "cell_type": "code",
   "execution_count": 73,
   "metadata": {},
   "outputs": [
    {
     "data": {
      "text/plain": [
       "name             0\n",
       "image_url        0\n",
       "description      0\n",
       "cuisine          2\n",
       "course           0\n",
       "diet            11\n",
       "prep_time        6\n",
       "ingredients      0\n",
       "instructions     0\n",
       "dtype: int64"
      ]
     },
     "execution_count": 73,
     "metadata": {},
     "output_type": "execute_result"
    }
   ],
   "source": [
    "df.isnull().sum()"
   ]
  },
  {
   "cell_type": "code",
   "execution_count": 74,
   "metadata": {},
   "outputs": [
    {
     "data": {
      "text/plain": [
       "diet\n",
       "Vegetarian                      2846\n",
       "High Protein Vegetarian          514\n",
       "Non Vegeterian                   240\n",
       "Diabetic Friendly                236\n",
       "High Protein Non Vegetarian      139\n",
       "Eggetarian                        95\n",
       "No Onion No Garlic (Sattvic)      60\n",
       "Gluten Free                       36\n",
       "Vegan                             21\n",
       "Name: count, dtype: int64"
      ]
     },
     "execution_count": 74,
     "metadata": {},
     "output_type": "execute_result"
    }
   ],
   "source": [
    "df['diet'].value_counts()"
   ]
  },
  {
   "cell_type": "code",
   "execution_count": 75,
   "metadata": {},
   "outputs": [],
   "source": [
    "# drop null values from diet column\n",
    "df = df[df[\"diet\"].notnull()]"
   ]
  },
  {
   "cell_type": "code",
   "execution_count": 76,
   "metadata": {},
   "outputs": [
    {
     "data": {
      "text/plain": [
       "name            0\n",
       "image_url       0\n",
       "description     0\n",
       "cuisine         2\n",
       "course          0\n",
       "diet            0\n",
       "prep_time       6\n",
       "ingredients     0\n",
       "instructions    0\n",
       "dtype: int64"
      ]
     },
     "execution_count": 76,
     "metadata": {},
     "output_type": "execute_result"
    }
   ],
   "source": [
    "df.isnull().sum()"
   ]
  },
  {
   "cell_type": "code",
   "execution_count": 77,
   "metadata": {},
   "outputs": [
    {
     "data": {
      "text/plain": [
       "(4187, 9)"
      ]
     },
     "execution_count": 77,
     "metadata": {},
     "output_type": "execute_result"
    }
   ],
   "source": [
    "df.shape"
   ]
  },
  {
   "cell_type": "code",
   "execution_count": 78,
   "metadata": {},
   "outputs": [
    {
     "data": {
      "text/plain": [
       "cuisine\n",
       "North Indian Recipes         819\n",
       "Indian                       803\n",
       "South Indian Recipes         627\n",
       "Bengali Recipes              163\n",
       "Kerala Recipes               159\n",
       "Tamil Nadu                   158\n",
       "Maharashtrian Recipes        136\n",
       "Karnataka                    132\n",
       "Gujarati Recipes﻿            124\n",
       "Rajasthani                   116\n",
       "Andhra                       116\n",
       "Punjabi                       86\n",
       "Goan Recipes                  83\n",
       "Chettinad                     67\n",
       "Kashmiri                      58\n",
       "Mangalorean                   44\n",
       "Awadhi                        36\n",
       "Parsi Recipes                 35\n",
       "Sindhi                        32\n",
       "Mughlai                       31\n",
       "Konkan                        31\n",
       "Oriya Recipes                 29\n",
       "Hyderabadi                    27\n",
       "Assamese                      26\n",
       "Bihari                        22\n",
       "North East India Recipes      20\n",
       "Himachal                      17\n",
       "Fusion                        16\n",
       "Coorg                         15\n",
       "Coastal Karnataka             14\n",
       "North Karnataka               14\n",
       "Udupi                         12\n",
       "Malabar                       11\n",
       "Uttar Pradesh                 11\n",
       "Pakistani                     11\n",
       "Malvani                        9\n",
       "Lucknowi                       9\n",
       "South Karnataka                8\n",
       "Sri Lankan                     8\n",
       "Middle Eastern                 6\n",
       "Asian                          6\n",
       "Indo Chinese                   5\n",
       "Nepalese                       5\n",
       "Nagaland                       5\n",
       "Continental                    5\n",
       "Uttarakhand-North Kumaon       4\n",
       "Kongunadu                      3\n",
       "Haryana                        3\n",
       "Jharkhand                      2\n",
       "Chinese                        2\n",
       "Thai                           1\n",
       "Arab                           1\n",
       "Sichuan                        1\n",
       "Afghan                         1\n",
       "Name: count, dtype: int64"
      ]
     },
     "execution_count": 78,
     "metadata": {},
     "output_type": "execute_result"
    }
   ],
   "source": [
    "df['cuisine'].value_counts()"
   ]
  },
  {
   "cell_type": "code",
   "execution_count": 79,
   "metadata": {},
   "outputs": [],
   "source": [
    "# drop null values from cuisine column\n",
    "df = df[df[\"cuisine\"].notnull()]"
   ]
  },
  {
   "cell_type": "code",
   "execution_count": 80,
   "metadata": {},
   "outputs": [
    {
     "data": {
      "text/plain": [
       "name            0\n",
       "image_url       0\n",
       "description     0\n",
       "cuisine         0\n",
       "course          0\n",
       "diet            0\n",
       "prep_time       6\n",
       "ingredients     0\n",
       "instructions    0\n",
       "dtype: int64"
      ]
     },
     "execution_count": 80,
     "metadata": {},
     "output_type": "execute_result"
    }
   ],
   "source": [
    "df.isnull().sum()"
   ]
  },
  {
   "cell_type": "code",
   "execution_count": 81,
   "metadata": {},
   "outputs": [
    {
     "data": {
      "text/plain": [
       "prep_time\n",
       "Total in 40 M     651\n",
       "Total in 30 M     547\n",
       "Total in 50 M     468\n",
       "Total in 35 M     364\n",
       "Total in 45 M     357\n",
       "                 ... \n",
       "Total in 200 M      1\n",
       "Total in 560 M      1\n",
       "Total in 425 M      1\n",
       "Total in 410 M      1\n",
       "Total in 235 M      1\n",
       "Name: count, Length: 119, dtype: int64"
      ]
     },
     "execution_count": 81,
     "metadata": {},
     "output_type": "execute_result"
    }
   ],
   "source": [
    "df['prep_time'].value_counts()"
   ]
  },
  {
   "cell_type": "code",
   "execution_count": 82,
   "metadata": {},
   "outputs": [],
   "source": [
    "# drop null values from prep_time column\n",
    "df = df[df[\"prep_time\"].notnull()]"
   ]
  },
  {
   "cell_type": "code",
   "execution_count": 83,
   "metadata": {},
   "outputs": [
    {
     "data": {
      "text/plain": [
       "name            0\n",
       "image_url       0\n",
       "description     0\n",
       "cuisine         0\n",
       "course          0\n",
       "diet            0\n",
       "prep_time       0\n",
       "ingredients     0\n",
       "instructions    0\n",
       "dtype: int64"
      ]
     },
     "execution_count": 83,
     "metadata": {},
     "output_type": "execute_result"
    }
   ],
   "source": [
    "df.isnull().sum()"
   ]
  },
  {
   "cell_type": "code",
   "execution_count": 84,
   "metadata": {},
   "outputs": [
    {
     "data": {
      "text/plain": [
       "(4179, 9)"
      ]
     },
     "execution_count": 84,
     "metadata": {},
     "output_type": "execute_result"
    }
   ],
   "source": [
    "df.shape"
   ]
  },
  {
   "cell_type": "code",
   "execution_count": 85,
   "metadata": {},
   "outputs": [
    {
     "data": {
      "text/plain": [
       "0        Total in 35 M\n",
       "1        Total in 75 M\n",
       "2       Total in 530 M\n",
       "3        Total in 55 M\n",
       "4        Total in 30 M\n",
       "             ...      \n",
       "4231     Total in 40 M\n",
       "4232     Total in 50 M\n",
       "4233     Total in 40 M\n",
       "4234     Total in 25 M\n",
       "4235     Total in 40 M\n",
       "Name: prep_time, Length: 4179, dtype: object"
      ]
     },
     "execution_count": 85,
     "metadata": {},
     "output_type": "execute_result"
    }
   ],
   "source": [
    "# prep_time modification\n",
    "df['prep_time']"
   ]
  },
  {
   "cell_type": "code",
   "execution_count": 86,
   "metadata": {},
   "outputs": [],
   "source": [
    "df['prep_time'] = df['prep_time'].str.replace(',','').str.findall(r'(\\d+)').apply(lambda x:x[0]) "
   ]
  },
  {
   "cell_type": "code",
   "execution_count": 87,
   "metadata": {},
   "outputs": [
    {
     "data": {
      "text/plain": [
       "0        35\n",
       "1        75\n",
       "2       530\n",
       "3        55\n",
       "4        30\n",
       "       ... \n",
       "4231     40\n",
       "4232     50\n",
       "4233     40\n",
       "4234     25\n",
       "4235     40\n",
       "Name: prep_time, Length: 4179, dtype: object"
      ]
     },
     "execution_count": 87,
     "metadata": {},
     "output_type": "execute_result"
    }
   ],
   "source": [
    "df['prep_time']"
   ]
  },
  {
   "cell_type": "code",
   "execution_count": 88,
   "metadata": {},
   "outputs": [
    {
     "data": {
      "text/html": [
       "<div>\n",
       "<style scoped>\n",
       "    .dataframe tbody tr th:only-of-type {\n",
       "        vertical-align: middle;\n",
       "    }\n",
       "\n",
       "    .dataframe tbody tr th {\n",
       "        vertical-align: top;\n",
       "    }\n",
       "\n",
       "    .dataframe thead th {\n",
       "        text-align: right;\n",
       "    }\n",
       "</style>\n",
       "<table border=\"1\" class=\"dataframe\">\n",
       "  <thead>\n",
       "    <tr style=\"text-align: right;\">\n",
       "      <th></th>\n",
       "      <th>name</th>\n",
       "      <th>image_url</th>\n",
       "      <th>description</th>\n",
       "      <th>cuisine</th>\n",
       "      <th>course</th>\n",
       "      <th>diet</th>\n",
       "      <th>prep_time</th>\n",
       "      <th>ingredients</th>\n",
       "      <th>instructions</th>\n",
       "    </tr>\n",
       "  </thead>\n",
       "  <tbody>\n",
       "    <tr>\n",
       "      <th>0</th>\n",
       "      <td>Thayir Semiya Recipe (Curd Semiya)</td>\n",
       "      <td>https://www.archanaskitchen.com/images/archana...</td>\n",
       "      <td>Thayir Semiya or Curd Vermicelli is a quick di...</td>\n",
       "      <td>Indian</td>\n",
       "      <td>Lunch</td>\n",
       "      <td>Vegetarian</td>\n",
       "      <td>35</td>\n",
       "      <td>\\n\\n\\t\\t\\t\\t\\t\\t\\t \\t\\t1/2 cup Semiya (Vermice...</td>\n",
       "      <td>To begin making the Thayir Semiya recipe, firs...</td>\n",
       "    </tr>\n",
       "    <tr>\n",
       "      <th>1</th>\n",
       "      <td>Chettinad Style Kara Kuzhambu Recipe with Pota...</td>\n",
       "      <td>https://www.archanaskitchen.com/images/archana...</td>\n",
       "      <td>Chettinad Style Kara Kuzhambu Recipe with Pot...</td>\n",
       "      <td>South Indian Recipes</td>\n",
       "      <td>Lunch</td>\n",
       "      <td>Vegetarian</td>\n",
       "      <td>75</td>\n",
       "      <td>\\nFor ground masala\\n\\n\\t\\t\\t\\t\\t\\t\\t \\t\\t1/4 ...</td>\n",
       "      <td>To begin making the Chettinad Style Kara Kuzha...</td>\n",
       "    </tr>\n",
       "  </tbody>\n",
       "</table>\n",
       "</div>"
      ],
      "text/plain": [
       "                                                name   \n",
       "0                 Thayir Semiya Recipe (Curd Semiya)  \\\n",
       "1  Chettinad Style Kara Kuzhambu Recipe with Pota...   \n",
       "\n",
       "                                           image_url   \n",
       "0  https://www.archanaskitchen.com/images/archana...  \\\n",
       "1  https://www.archanaskitchen.com/images/archana...   \n",
       "\n",
       "                                         description               cuisine   \n",
       "0  Thayir Semiya or Curd Vermicelli is a quick di...                Indian  \\\n",
       "1   Chettinad Style Kara Kuzhambu Recipe with Pot...  South Indian Recipes   \n",
       "\n",
       "  course        diet prep_time   \n",
       "0  Lunch  Vegetarian        35  \\\n",
       "1  Lunch  Vegetarian        75   \n",
       "\n",
       "                                         ingredients   \n",
       "0  \\n\\n\\t\\t\\t\\t\\t\\t\\t \\t\\t1/2 cup Semiya (Vermice...  \\\n",
       "1  \\nFor ground masala\\n\\n\\t\\t\\t\\t\\t\\t\\t \\t\\t1/4 ...   \n",
       "\n",
       "                                        instructions  \n",
       "0  To begin making the Thayir Semiya recipe, firs...  \n",
       "1  To begin making the Chettinad Style Kara Kuzha...  "
      ]
     },
     "execution_count": 88,
     "metadata": {},
     "output_type": "execute_result"
    }
   ],
   "source": [
    "df.head(2)"
   ]
  },
  {
   "cell_type": "code",
   "execution_count": 89,
   "metadata": {},
   "outputs": [],
   "source": [
    "# removing \\t and \\n from ingredients\n",
    "s = df[\"ingredients\"].str\n",
    "table = str.maketrans('', '', '\\n\\t')\n",
    "df[\"ingredients\"] = s.translate(table)"
   ]
  },
  {
   "cell_type": "code",
   "execution_count": 90,
   "metadata": {},
   "outputs": [],
   "source": [
    "df['ingredients'] = df['ingredients'].str.lower()"
   ]
  },
  {
   "cell_type": "code",
   "execution_count": 91,
   "metadata": {},
   "outputs": [
    {
     "data": {
      "text/plain": [
       "' 1/2 cup semiya (vermicelli) , roasted  1 cup curd (dahi / yogurt) for tempering 1 teaspoon mustard seeds (rai/ kadugu)  1/2 teaspoon white urad dal (split)  pinch asafoetida (hing)  1 sprig curry leaves  2 teaspoon oil raw peanuts (moongphali)  1 sprig curry leaves  2 teaspoon oil  5 to 6 cashew nuts , for garnishing '"
      ]
     },
     "execution_count": 91,
     "metadata": {},
     "output_type": "execute_result"
    }
   ],
   "source": [
    "df['ingredients'][0]"
   ]
  },
  {
   "cell_type": "code",
   "execution_count": 92,
   "metadata": {},
   "outputs": [],
   "source": [
    "# creating a columna and store yes or no if it contais milk\n",
    "df[\"contain_milk\"] = df[\"ingredients\"].apply(lambda x: \"1\" if \"milk\" in x else \"0\")\n"
   ]
  },
  {
   "cell_type": "code",
   "execution_count": 93,
   "metadata": {},
   "outputs": [],
   "source": [
    "# creating a column and store yes or no if it contais curd, dahi or yogurt \n",
    "df['contain_curd'] = df['ingredients'].apply(lambda a: '1' if 'curd' in a or 'dahi' in a or 'yogurt' in a else '0' )"
   ]
  },
  {
   "cell_type": "code",
   "execution_count": 94,
   "metadata": {},
   "outputs": [],
   "source": [
    "# creating a column and store yes or no if it contais onion or garlic \n",
    "df['onion/garlic'] = df['ingredients'].apply(lambda a: '1' if 'onions' in a or 'garlic' in a or 'onion' in a else '0' )"
   ]
  },
  {
   "cell_type": "code",
   "execution_count": 95,
   "metadata": {},
   "outputs": [
    {
     "data": {
      "text/html": [
       "<div>\n",
       "<style scoped>\n",
       "    .dataframe tbody tr th:only-of-type {\n",
       "        vertical-align: middle;\n",
       "    }\n",
       "\n",
       "    .dataframe tbody tr th {\n",
       "        vertical-align: top;\n",
       "    }\n",
       "\n",
       "    .dataframe thead th {\n",
       "        text-align: right;\n",
       "    }\n",
       "</style>\n",
       "<table border=\"1\" class=\"dataframe\">\n",
       "  <thead>\n",
       "    <tr style=\"text-align: right;\">\n",
       "      <th></th>\n",
       "      <th>name</th>\n",
       "      <th>image_url</th>\n",
       "      <th>description</th>\n",
       "      <th>cuisine</th>\n",
       "      <th>course</th>\n",
       "      <th>diet</th>\n",
       "      <th>prep_time</th>\n",
       "      <th>ingredients</th>\n",
       "      <th>instructions</th>\n",
       "      <th>contain_milk</th>\n",
       "      <th>contain_curd</th>\n",
       "      <th>onion/garlic</th>\n",
       "    </tr>\n",
       "  </thead>\n",
       "  <tbody>\n",
       "    <tr>\n",
       "      <th>0</th>\n",
       "      <td>Thayir Semiya Recipe (Curd Semiya)</td>\n",
       "      <td>https://www.archanaskitchen.com/images/archana...</td>\n",
       "      <td>Thayir Semiya or Curd Vermicelli is a quick di...</td>\n",
       "      <td>Indian</td>\n",
       "      <td>Lunch</td>\n",
       "      <td>Vegetarian</td>\n",
       "      <td>35</td>\n",
       "      <td>1/2 cup semiya (vermicelli) , roasted  1 cup ...</td>\n",
       "      <td>To begin making the Thayir Semiya recipe, firs...</td>\n",
       "      <td>0</td>\n",
       "      <td>1</td>\n",
       "      <td>0</td>\n",
       "    </tr>\n",
       "    <tr>\n",
       "      <th>1</th>\n",
       "      <td>Chettinad Style Kara Kuzhambu Recipe with Pota...</td>\n",
       "      <td>https://www.archanaskitchen.com/images/archana...</td>\n",
       "      <td>Chettinad Style Kara Kuzhambu Recipe with Pot...</td>\n",
       "      <td>South Indian Recipes</td>\n",
       "      <td>Lunch</td>\n",
       "      <td>Vegetarian</td>\n",
       "      <td>75</td>\n",
       "      <td>for ground masala 1/4 teaspoon methi seeds (fe...</td>\n",
       "      <td>To begin making the Chettinad Style Kara Kuzha...</td>\n",
       "      <td>0</td>\n",
       "      <td>0</td>\n",
       "      <td>1</td>\n",
       "    </tr>\n",
       "    <tr>\n",
       "      <th>2</th>\n",
       "      <td>Goan Chana Ros Recipe (White Peas Curry)</td>\n",
       "      <td>https://www.archanaskitchen.com/images/archana...</td>\n",
       "      <td>Goan Chana Ros is a vegetarian dish from Goan ...</td>\n",
       "      <td>Goan Recipes</td>\n",
       "      <td>Lunch</td>\n",
       "      <td>Vegetarian</td>\n",
       "      <td>530</td>\n",
       "      <td>1/2 cup dried green peas (vatana) , soaked ov...</td>\n",
       "      <td>To prepare Goan Chana Ros recipe, soak the whi...</td>\n",
       "      <td>0</td>\n",
       "      <td>0</td>\n",
       "      <td>1</td>\n",
       "    </tr>\n",
       "    <tr>\n",
       "      <th>3</th>\n",
       "      <td>Minced Meat And Egg Croquettes Recipe</td>\n",
       "      <td>https://www.archanaskitchen.com/images/archana...</td>\n",
       "      <td>The croquette is usually cigar shaped or cylin...</td>\n",
       "      <td>North Indian Recipes</td>\n",
       "      <td>Appetizer</td>\n",
       "      <td>Non Vegeterian</td>\n",
       "      <td>55</td>\n",
       "      <td>500 grams mutton , minced  4 whole eggs , boi...</td>\n",
       "      <td>To begin making the Minced Meat And Egg Croque...</td>\n",
       "      <td>0</td>\n",
       "      <td>0</td>\n",
       "      <td>1</td>\n",
       "    </tr>\n",
       "    <tr>\n",
       "      <th>4</th>\n",
       "      <td>Thekera Tenga Recipe</td>\n",
       "      <td>https://www.archanaskitchen.com/images/archana...</td>\n",
       "      <td>Thekera Tenga is a Sour curry from Assamese cu...</td>\n",
       "      <td>Assamese</td>\n",
       "      <td>Dinner</td>\n",
       "      <td>Vegetarian</td>\n",
       "      <td>30</td>\n",
       "      <td>4 potatoes (aloo) , thinly sliced  1 tablespo...</td>\n",
       "      <td>To begin making the Thekera Tenga recipe, Heat...</td>\n",
       "      <td>0</td>\n",
       "      <td>0</td>\n",
       "      <td>0</td>\n",
       "    </tr>\n",
       "  </tbody>\n",
       "</table>\n",
       "</div>"
      ],
      "text/plain": [
       "                                                name   \n",
       "0                 Thayir Semiya Recipe (Curd Semiya)  \\\n",
       "1  Chettinad Style Kara Kuzhambu Recipe with Pota...   \n",
       "2           Goan Chana Ros Recipe (White Peas Curry)   \n",
       "3              Minced Meat And Egg Croquettes Recipe   \n",
       "4                               Thekera Tenga Recipe   \n",
       "\n",
       "                                           image_url   \n",
       "0  https://www.archanaskitchen.com/images/archana...  \\\n",
       "1  https://www.archanaskitchen.com/images/archana...   \n",
       "2  https://www.archanaskitchen.com/images/archana...   \n",
       "3  https://www.archanaskitchen.com/images/archana...   \n",
       "4  https://www.archanaskitchen.com/images/archana...   \n",
       "\n",
       "                                         description               cuisine   \n",
       "0  Thayir Semiya or Curd Vermicelli is a quick di...                Indian  \\\n",
       "1   Chettinad Style Kara Kuzhambu Recipe with Pot...  South Indian Recipes   \n",
       "2  Goan Chana Ros is a vegetarian dish from Goan ...          Goan Recipes   \n",
       "3  The croquette is usually cigar shaped or cylin...  North Indian Recipes   \n",
       "4  Thekera Tenga is a Sour curry from Assamese cu...              Assamese   \n",
       "\n",
       "      course            diet prep_time   \n",
       "0      Lunch      Vegetarian        35  \\\n",
       "1      Lunch      Vegetarian        75   \n",
       "2      Lunch      Vegetarian       530   \n",
       "3  Appetizer  Non Vegeterian        55   \n",
       "4     Dinner      Vegetarian        30   \n",
       "\n",
       "                                         ingredients   \n",
       "0   1/2 cup semiya (vermicelli) , roasted  1 cup ...  \\\n",
       "1  for ground masala 1/4 teaspoon methi seeds (fe...   \n",
       "2   1/2 cup dried green peas (vatana) , soaked ov...   \n",
       "3   500 grams mutton , minced  4 whole eggs , boi...   \n",
       "4   4 potatoes (aloo) , thinly sliced  1 tablespo...   \n",
       "\n",
       "                                        instructions contain_milk   \n",
       "0  To begin making the Thayir Semiya recipe, firs...            0  \\\n",
       "1  To begin making the Chettinad Style Kara Kuzha...            0   \n",
       "2  To prepare Goan Chana Ros recipe, soak the whi...            0   \n",
       "3  To begin making the Minced Meat And Egg Croque...            0   \n",
       "4  To begin making the Thekera Tenga recipe, Heat...            0   \n",
       "\n",
       "  contain_curd onion/garlic  \n",
       "0            1            0  \n",
       "1            0            1  \n",
       "2            0            1  \n",
       "3            0            1  \n",
       "4            0            0  "
      ]
     },
     "execution_count": 95,
     "metadata": {},
     "output_type": "execute_result"
    }
   ],
   "source": [
    "df.head(5)"
   ]
  },
  {
   "cell_type": "code",
   "execution_count": 96,
   "metadata": {},
   "outputs": [],
   "source": [
    "df['prep_time'] = df['prep_time'].astype(int)\n"
   ]
  },
  {
   "cell_type": "code",
   "execution_count": 97,
   "metadata": {},
   "outputs": [
    {
     "data": {
      "text/html": [
       "<div>\n",
       "<style scoped>\n",
       "    .dataframe tbody tr th:only-of-type {\n",
       "        vertical-align: middle;\n",
       "    }\n",
       "\n",
       "    .dataframe tbody tr th {\n",
       "        vertical-align: top;\n",
       "    }\n",
       "\n",
       "    .dataframe thead th {\n",
       "        text-align: right;\n",
       "    }\n",
       "</style>\n",
       "<table border=\"1\" class=\"dataframe\">\n",
       "  <thead>\n",
       "    <tr style=\"text-align: right;\">\n",
       "      <th></th>\n",
       "      <th>name</th>\n",
       "      <th>image_url</th>\n",
       "      <th>description</th>\n",
       "      <th>cuisine</th>\n",
       "      <th>course</th>\n",
       "      <th>diet</th>\n",
       "      <th>prep_time</th>\n",
       "      <th>ingredients</th>\n",
       "      <th>instructions</th>\n",
       "      <th>contain_milk</th>\n",
       "      <th>contain_curd</th>\n",
       "      <th>onion/garlic</th>\n",
       "    </tr>\n",
       "  </thead>\n",
       "  <tbody>\n",
       "    <tr>\n",
       "      <th>646</th>\n",
       "      <td>Badam Elaichi Kulfi Recipe</td>\n",
       "      <td>https://www.archanaskitchen.com/images/archana...</td>\n",
       "      <td>Badam Elaichi Kulfi is the best choice to beat...</td>\n",
       "      <td>North Indian Recipes</td>\n",
       "      <td>Dessert</td>\n",
       "      <td>Vegetarian</td>\n",
       "      <td>630</td>\n",
       "      <td>2 liter milk , full fat+ 1 cup  1 cup whole a...</td>\n",
       "      <td>To begin making the Badam Elaichi Kulfi, we wi...</td>\n",
       "      <td>1</td>\n",
       "      <td>0</td>\n",
       "      <td>0</td>\n",
       "    </tr>\n",
       "    <tr>\n",
       "      <th>1461</th>\n",
       "      <td>Kerala Style Appam Recipe Without Yeast</td>\n",
       "      <td>https://www.archanaskitchen.com/images/archana...</td>\n",
       "      <td>The Kerala Style Appam Recipe is one dish that...</td>\n",
       "      <td>Kerala Recipes</td>\n",
       "      <td>South Indian Breakfast</td>\n",
       "      <td>Gluten Free</td>\n",
       "      <td>620</td>\n",
       "      <td>500 grams rice , raw  2 teaspoon methi seeds ...</td>\n",
       "      <td>To begin making the Kerala Style Appam, we nee...</td>\n",
       "      <td>0</td>\n",
       "      <td>0</td>\n",
       "      <td>0</td>\n",
       "    </tr>\n",
       "    <tr>\n",
       "      <th>2235</th>\n",
       "      <td>छोले पिंडी रेसिपी - Chole Pindi Recipe</td>\n",
       "      <td>https://www.archanaskitchen.com/images/archana...</td>\n",
       "      <td>छोले पिंडी रेसिपी एक पारम्परिक रेसिपी है जिसे ...</td>\n",
       "      <td>North Indian Recipes</td>\n",
       "      <td>Lunch</td>\n",
       "      <td>Vegetarian</td>\n",
       "      <td>620</td>\n",
       "      <td>1 कप काला चना , रात भर भिगो ले  2 इलाइची  1 प...</td>\n",
       "      <td>छोले पिंडी रेसिपी बनाने के लिए सबसे पहले हम का...</td>\n",
       "      <td>0</td>\n",
       "      <td>0</td>\n",
       "      <td>0</td>\n",
       "    </tr>\n",
       "    <tr>\n",
       "      <th>2998</th>\n",
       "      <td>Barnyard Millet Idli And Dosa Recipe</td>\n",
       "      <td>https://www.archanaskitchen.com/images/archana...</td>\n",
       "      <td>This No-Rice, Barnyard Millet Idli and Dosa is...</td>\n",
       "      <td>South Indian Recipes</td>\n",
       "      <td>Indian Breakfast</td>\n",
       "      <td>Diabetic Friendly</td>\n",
       "      <td>730</td>\n",
       "      <td>2 cups barnyard millet  3/4 cup sabudana (tap...</td>\n",
       "      <td>To begin making the Barnyard Millet Idli And D...</td>\n",
       "      <td>0</td>\n",
       "      <td>0</td>\n",
       "      <td>0</td>\n",
       "    </tr>\n",
       "    <tr>\n",
       "      <th>3048</th>\n",
       "      <td>Chole Pindi Recipe (Spicy Chickpea Curry)</td>\n",
       "      <td>https://www.archanaskitchen.com/images/archana...</td>\n",
       "      <td>Chole Pindi Recipe is a very traditional recip...</td>\n",
       "      <td>North Indian Recipes</td>\n",
       "      <td>Lunch</td>\n",
       "      <td>Vegetarian</td>\n",
       "      <td>620</td>\n",
       "      <td>1 cup kala chana (brown chickpeas) , soaked o...</td>\n",
       "      <td>To begin making the Chole Pindi Recipe, we wil...</td>\n",
       "      <td>0</td>\n",
       "      <td>0</td>\n",
       "      <td>1</td>\n",
       "    </tr>\n",
       "    <tr>\n",
       "      <th>3063</th>\n",
       "      <td>Kollu Masala Dosa Recipe - High Protein Horse ...</td>\n",
       "      <td>https://www.archanaskitchen.com/images/archana...</td>\n",
       "      <td>A famous Konkani cuisine recipe, Horse Gram do...</td>\n",
       "      <td>Konkan</td>\n",
       "      <td>South Indian Breakfast</td>\n",
       "      <td>Vegetarian</td>\n",
       "      <td>960</td>\n",
       "      <td>1 cup rice  1/2 cup horse gram dal (kollu/ ku...</td>\n",
       "      <td>To make Horse Gram Masala Dosa Recipe, first c...</td>\n",
       "      <td>0</td>\n",
       "      <td>0</td>\n",
       "      <td>1</td>\n",
       "    </tr>\n",
       "    <tr>\n",
       "      <th>3390</th>\n",
       "      <td>छोले पिंडी रेसिपी - Chole Pindi (Recipe In Hindi)</td>\n",
       "      <td>https://www.archanaskitchen.com/images/archana...</td>\n",
       "      <td>छोले पिंडी उत्तर भारत की एक स्वादिष्ट रेसिपी ह...</td>\n",
       "      <td>North Indian Recipes</td>\n",
       "      <td>Lunch</td>\n",
       "      <td>Vegetarian</td>\n",
       "      <td>620</td>\n",
       "      <td>1 कप काबुली चना या छोला , रात भर भिगो ले  2 इ...</td>\n",
       "      <td>छोले पिंडी बनाने के लिए सबसे पहले छोले को प्रे...</td>\n",
       "      <td>0</td>\n",
       "      <td>0</td>\n",
       "      <td>0</td>\n",
       "    </tr>\n",
       "    <tr>\n",
       "      <th>3653</th>\n",
       "      <td>भगारा पीठा रेसिपी - Baghara Pitha (Recipe In H...</td>\n",
       "      <td>https://www.archanaskitchen.com/images/archana...</td>\n",
       "      <td>उरददाल से बने ओडीया उत्तपम को ओडीया मे भगारा प...</td>\n",
       "      <td>Oriya Recipes</td>\n",
       "      <td>Indian Breakfast</td>\n",
       "      <td>Vegetarian</td>\n",
       "      <td>1470</td>\n",
       "      <td>1 कप सफेद उरद दाल (split)  1 बड़े चमच्च मेथी क...</td>\n",
       "      <td>भगारा पीठा बनाने के लिए सबसे पहले उरददाल और मे...</td>\n",
       "      <td>0</td>\n",
       "      <td>0</td>\n",
       "      <td>0</td>\n",
       "    </tr>\n",
       "  </tbody>\n",
       "</table>\n",
       "</div>"
      ],
      "text/plain": [
       "                                                   name   \n",
       "646                         Badam Elaichi Kulfi Recipe   \\\n",
       "1461            Kerala Style Appam Recipe Without Yeast   \n",
       "2235             छोले पिंडी रेसिपी - Chole Pindi Recipe   \n",
       "2998               Barnyard Millet Idli And Dosa Recipe   \n",
       "3048          Chole Pindi Recipe (Spicy Chickpea Curry)   \n",
       "3063  Kollu Masala Dosa Recipe - High Protein Horse ...   \n",
       "3390  छोले पिंडी रेसिपी - Chole Pindi (Recipe In Hindi)   \n",
       "3653  भगारा पीठा रेसिपी - Baghara Pitha (Recipe In H...   \n",
       "\n",
       "                                              image_url   \n",
       "646   https://www.archanaskitchen.com/images/archana...  \\\n",
       "1461  https://www.archanaskitchen.com/images/archana...   \n",
       "2235  https://www.archanaskitchen.com/images/archana...   \n",
       "2998  https://www.archanaskitchen.com/images/archana...   \n",
       "3048  https://www.archanaskitchen.com/images/archana...   \n",
       "3063  https://www.archanaskitchen.com/images/archana...   \n",
       "3390  https://www.archanaskitchen.com/images/archana...   \n",
       "3653  https://www.archanaskitchen.com/images/archana...   \n",
       "\n",
       "                                            description               cuisine   \n",
       "646   Badam Elaichi Kulfi is the best choice to beat...  North Indian Recipes  \\\n",
       "1461  The Kerala Style Appam Recipe is one dish that...        Kerala Recipes   \n",
       "2235  छोले पिंडी रेसिपी एक पारम्परिक रेसिपी है जिसे ...  North Indian Recipes   \n",
       "2998  This No-Rice, Barnyard Millet Idli and Dosa is...  South Indian Recipes   \n",
       "3048  Chole Pindi Recipe is a very traditional recip...  North Indian Recipes   \n",
       "3063  A famous Konkani cuisine recipe, Horse Gram do...                Konkan   \n",
       "3390  छोले पिंडी उत्तर भारत की एक स्वादिष्ट रेसिपी ह...  North Indian Recipes   \n",
       "3653  उरददाल से बने ओडीया उत्तपम को ओडीया मे भगारा प...         Oriya Recipes   \n",
       "\n",
       "                      course               diet  prep_time   \n",
       "646                  Dessert         Vegetarian        630  \\\n",
       "1461  South Indian Breakfast        Gluten Free        620   \n",
       "2235                   Lunch         Vegetarian        620   \n",
       "2998        Indian Breakfast  Diabetic Friendly        730   \n",
       "3048                   Lunch         Vegetarian        620   \n",
       "3063  South Indian Breakfast         Vegetarian        960   \n",
       "3390                   Lunch         Vegetarian        620   \n",
       "3653        Indian Breakfast         Vegetarian       1470   \n",
       "\n",
       "                                            ingredients   \n",
       "646    2 liter milk , full fat+ 1 cup  1 cup whole a...  \\\n",
       "1461   500 grams rice , raw  2 teaspoon methi seeds ...   \n",
       "2235   1 कप काला चना , रात भर भिगो ले  2 इलाइची  1 प...   \n",
       "2998   2 cups barnyard millet  3/4 cup sabudana (tap...   \n",
       "3048   1 cup kala chana (brown chickpeas) , soaked o...   \n",
       "3063   1 cup rice  1/2 cup horse gram dal (kollu/ ku...   \n",
       "3390   1 कप काबुली चना या छोला , रात भर भिगो ले  2 इ...   \n",
       "3653   1 कप सफेद उरद दाल (split)  1 बड़े चमच्च मेथी क...   \n",
       "\n",
       "                                           instructions contain_milk   \n",
       "646   To begin making the Badam Elaichi Kulfi, we wi...            1  \\\n",
       "1461  To begin making the Kerala Style Appam, we nee...            0   \n",
       "2235  छोले पिंडी रेसिपी बनाने के लिए सबसे पहले हम का...            0   \n",
       "2998  To begin making the Barnyard Millet Idli And D...            0   \n",
       "3048  To begin making the Chole Pindi Recipe, we wil...            0   \n",
       "3063  To make Horse Gram Masala Dosa Recipe, first c...            0   \n",
       "3390  छोले पिंडी बनाने के लिए सबसे पहले छोले को प्रे...            0   \n",
       "3653  भगारा पीठा बनाने के लिए सबसे पहले उरददाल और मे...            0   \n",
       "\n",
       "     contain_curd onion/garlic  \n",
       "646             0            0  \n",
       "1461            0            0  \n",
       "2235            0            0  \n",
       "2998            0            0  \n",
       "3048            0            1  \n",
       "3063            0            1  \n",
       "3390            0            0  \n",
       "3653            0            0  "
      ]
     },
     "execution_count": 97,
     "metadata": {},
     "output_type": "execute_result"
    }
   ],
   "source": [
    "df[df['prep_time'] > 600]"
   ]
  },
  {
   "cell_type": "code",
   "execution_count": 98,
   "metadata": {},
   "outputs": [
    {
     "data": {
      "text/plain": [
       "<Axes: ylabel='Frequency'>"
      ]
     },
     "execution_count": 98,
     "metadata": {},
     "output_type": "execute_result"
    },
    {
     "data": {
      "image/png": "[encoded data removed]",
      "text/plain": [
       "<Figure size 640x480 with 1 Axes>"
      ]
     },
     "metadata": {},
     "output_type": "display_data"
    }
   ],
   "source": [
    "df['prep_time'].plot.hist()"
   ]
  },
  {
   "cell_type": "code",
   "execution_count": 99,
   "metadata": {},
   "outputs": [
    {
     "data": {
      "text/plain": [
       "Index([646, 1461, 2235, 2998, 3048, 3063, 3390, 3653], dtype='int64')"
      ]
     },
     "execution_count": 99,
     "metadata": {},
     "output_type": "execute_result"
    }
   ],
   "source": [
    "df[df['prep_time']>600].index"
   ]
  },
  {
   "cell_type": "code",
   "execution_count": 100,
   "metadata": {},
   "outputs": [],
   "source": [
    "# dropp the rows where preptime is > 620 \n",
    "df.drop(df[df['prep_time']>600].index, inplace=True)"
   ]
  },
  {
   "cell_type": "code",
   "execution_count": 101,
   "metadata": {},
   "outputs": [
    {
     "data": {
      "text/plain": [
       "<Axes: ylabel='Frequency'>"
      ]
     },
     "execution_count": 101,
     "metadata": {},
     "output_type": "execute_result"
    },
    {
     "data": {
      "image/png": "[encoded data removed]",
      "text/plain": [
       "<Figure size 640x480 with 1 Axes>"
      ]
     },
     "metadata": {},
     "output_type": "display_data"
    }
   ],
   "source": [
    "df[df['prep_time']<300].plot.hist()"
   ]
  },
  {
   "cell_type": "code",
   "execution_count": 102,
   "metadata": {},
   "outputs": [
    {
     "data": {
      "text/plain": [
       "<Axes: ylabel='Frequency'>"
      ]
     },
     "execution_count": 102,
     "metadata": {},
     "output_type": "execute_result"
    },
    {
     "data": {
      "image/png": "[encoded data removed]",
      "text/plain": [
       "<Figure size 640x480 with 1 Axes>"
      ]
     },
     "metadata": {},
     "output_type": "display_data"
    }
   ],
   "source": [
    "df['prep_time'].plot.hist()"
   ]
  },
  {
   "cell_type": "code",
   "execution_count": 103,
   "metadata": {},
   "outputs": [
    {
     "data": {
      "text/plain": [
       "{'whiskers': [<matplotlib.lines.Line2D at 0x25d9d387550>,\n",
       "  <matplotlib.lines.Line2D at 0x25d9d398150>],\n",
       " 'caps': [<matplotlib.lines.Line2D at 0x25d9d398cd0>,\n",
       "  <matplotlib.lines.Line2D at 0x25d9d399810>],\n",
       " 'boxes': [<matplotlib.lines.Line2D at 0x25d9d368150>],\n",
       " 'medians': [<matplotlib.lines.Line2D at 0x25d9d39a350>],\n",
       " 'fliers': [<matplotlib.lines.Line2D at 0x25d9d398c10>],\n",
       " 'means': []}"
      ]
     },
     "execution_count": 103,
     "metadata": {},
     "output_type": "execute_result"
    },
    {
     "data": {
      "image/png": "[encoded data removed]",
      "text/plain": [
       "<Figure size 640x480 with 1 Axes>"
      ]
     },
     "metadata": {},
     "output_type": "display_data"
    }
   ],
   "source": [
    "plt.boxplot(df['prep_time'])"
   ]
  },
  {
   "cell_type": "code",
   "execution_count": 104,
   "metadata": {},
   "outputs": [
    {
     "data": {
      "text/html": [
       "<div>\n",
       "<style scoped>\n",
       "    .dataframe tbody tr th:only-of-type {\n",
       "        vertical-align: middle;\n",
       "    }\n",
       "\n",
       "    .dataframe tbody tr th {\n",
       "        vertical-align: top;\n",
       "    }\n",
       "\n",
       "    .dataframe thead th {\n",
       "        text-align: right;\n",
       "    }\n",
       "</style>\n",
       "<table border=\"1\" class=\"dataframe\">\n",
       "  <thead>\n",
       "    <tr style=\"text-align: right;\">\n",
       "      <th></th>\n",
       "      <th>name</th>\n",
       "      <th>image_url</th>\n",
       "      <th>description</th>\n",
       "      <th>cuisine</th>\n",
       "      <th>course</th>\n",
       "      <th>diet</th>\n",
       "      <th>prep_time</th>\n",
       "      <th>ingredients</th>\n",
       "      <th>instructions</th>\n",
       "      <th>contain_milk</th>\n",
       "      <th>contain_curd</th>\n",
       "      <th>onion/garlic</th>\n",
       "    </tr>\n",
       "  </thead>\n",
       "  <tbody>\n",
       "    <tr>\n",
       "      <th>0</th>\n",
       "      <td>Thayir Semiya Recipe (Curd Semiya)</td>\n",
       "      <td>https://www.archanaskitchen.com/images/archana...</td>\n",
       "      <td>Thayir Semiya or Curd Vermicelli is a quick di...</td>\n",
       "      <td>Indian</td>\n",
       "      <td>Lunch</td>\n",
       "      <td>Vegetarian</td>\n",
       "      <td>35</td>\n",
       "      <td>1/2 cup semiya (vermicelli) , roasted  1 cup ...</td>\n",
       "      <td>To begin making the Thayir Semiya recipe, firs...</td>\n",
       "      <td>0</td>\n",
       "      <td>1</td>\n",
       "      <td>0</td>\n",
       "    </tr>\n",
       "    <tr>\n",
       "      <th>1</th>\n",
       "      <td>Chettinad Style Kara Kuzhambu Recipe with Pota...</td>\n",
       "      <td>https://www.archanaskitchen.com/images/archana...</td>\n",
       "      <td>Chettinad Style Kara Kuzhambu Recipe with Pot...</td>\n",
       "      <td>South Indian Recipes</td>\n",
       "      <td>Lunch</td>\n",
       "      <td>Vegetarian</td>\n",
       "      <td>75</td>\n",
       "      <td>for ground masala 1/4 teaspoon methi seeds (fe...</td>\n",
       "      <td>To begin making the Chettinad Style Kara Kuzha...</td>\n",
       "      <td>0</td>\n",
       "      <td>0</td>\n",
       "      <td>1</td>\n",
       "    </tr>\n",
       "    <tr>\n",
       "      <th>2</th>\n",
       "      <td>Goan Chana Ros Recipe (White Peas Curry)</td>\n",
       "      <td>https://www.archanaskitchen.com/images/archana...</td>\n",
       "      <td>Goan Chana Ros is a vegetarian dish from Goan ...</td>\n",
       "      <td>Goan Recipes</td>\n",
       "      <td>Lunch</td>\n",
       "      <td>Vegetarian</td>\n",
       "      <td>530</td>\n",
       "      <td>1/2 cup dried green peas (vatana) , soaked ov...</td>\n",
       "      <td>To prepare Goan Chana Ros recipe, soak the whi...</td>\n",
       "      <td>0</td>\n",
       "      <td>0</td>\n",
       "      <td>1</td>\n",
       "    </tr>\n",
       "    <tr>\n",
       "      <th>3</th>\n",
       "      <td>Minced Meat And Egg Croquettes Recipe</td>\n",
       "      <td>https://www.archanaskitchen.com/images/archana...</td>\n",
       "      <td>The croquette is usually cigar shaped or cylin...</td>\n",
       "      <td>North Indian Recipes</td>\n",
       "      <td>Appetizer</td>\n",
       "      <td>Non Vegeterian</td>\n",
       "      <td>55</td>\n",
       "      <td>500 grams mutton , minced  4 whole eggs , boi...</td>\n",
       "      <td>To begin making the Minced Meat And Egg Croque...</td>\n",
       "      <td>0</td>\n",
       "      <td>0</td>\n",
       "      <td>1</td>\n",
       "    </tr>\n",
       "    <tr>\n",
       "      <th>4</th>\n",
       "      <td>Thekera Tenga Recipe</td>\n",
       "      <td>https://www.archanaskitchen.com/images/archana...</td>\n",
       "      <td>Thekera Tenga is a Sour curry from Assamese cu...</td>\n",
       "      <td>Assamese</td>\n",
       "      <td>Dinner</td>\n",
       "      <td>Vegetarian</td>\n",
       "      <td>30</td>\n",
       "      <td>4 potatoes (aloo) , thinly sliced  1 tablespo...</td>\n",
       "      <td>To begin making the Thekera Tenga recipe, Heat...</td>\n",
       "      <td>0</td>\n",
       "      <td>0</td>\n",
       "      <td>0</td>\n",
       "    </tr>\n",
       "  </tbody>\n",
       "</table>\n",
       "</div>"
      ],
      "text/plain": [
       "                                                name   \n",
       "0                 Thayir Semiya Recipe (Curd Semiya)  \\\n",
       "1  Chettinad Style Kara Kuzhambu Recipe with Pota...   \n",
       "2           Goan Chana Ros Recipe (White Peas Curry)   \n",
       "3              Minced Meat And Egg Croquettes Recipe   \n",
       "4                               Thekera Tenga Recipe   \n",
       "\n",
       "                                           image_url   \n",
       "0  https://www.archanaskitchen.com/images/archana...  \\\n",
       "1  https://www.archanaskitchen.com/images/archana...   \n",
       "2  https://www.archanaskitchen.com/images/archana...   \n",
       "3  https://www.archanaskitchen.com/images/archana...   \n",
       "4  https://www.archanaskitchen.com/images/archana...   \n",
       "\n",
       "                                         description               cuisine   \n",
       "0  Thayir Semiya or Curd Vermicelli is a quick di...                Indian  \\\n",
       "1   Chettinad Style Kara Kuzhambu Recipe with Pot...  South Indian Recipes   \n",
       "2  Goan Chana Ros is a vegetarian dish from Goan ...          Goan Recipes   \n",
       "3  The croquette is usually cigar shaped or cylin...  North Indian Recipes   \n",
       "4  Thekera Tenga is a Sour curry from Assamese cu...              Assamese   \n",
       "\n",
       "      course            diet  prep_time   \n",
       "0      Lunch      Vegetarian         35  \\\n",
       "1      Lunch      Vegetarian         75   \n",
       "2      Lunch      Vegetarian        530   \n",
       "3  Appetizer  Non Vegeterian         55   \n",
       "4     Dinner      Vegetarian         30   \n",
       "\n",
       "                                         ingredients   \n",
       "0   1/2 cup semiya (vermicelli) , roasted  1 cup ...  \\\n",
       "1  for ground masala 1/4 teaspoon methi seeds (fe...   \n",
       "2   1/2 cup dried green peas (vatana) , soaked ov...   \n",
       "3   500 grams mutton , minced  4 whole eggs , boi...   \n",
       "4   4 potatoes (aloo) , thinly sliced  1 tablespo...   \n",
       "\n",
       "                                        instructions contain_milk   \n",
       "0  To begin making the Thayir Semiya recipe, firs...            0  \\\n",
       "1  To begin making the Chettinad Style Kara Kuzha...            0   \n",
       "2  To prepare Goan Chana Ros recipe, soak the whi...            0   \n",
       "3  To begin making the Minced Meat And Egg Croque...            0   \n",
       "4  To begin making the Thekera Tenga recipe, Heat...            0   \n",
       "\n",
       "  contain_curd onion/garlic  \n",
       "0            1            0  \n",
       "1            0            1  \n",
       "2            0            1  \n",
       "3            0            1  \n",
       "4            0            0  "
      ]
     },
     "execution_count": 104,
     "metadata": {},
     "output_type": "execute_result"
    }
   ],
   "source": [
    "df.head(5)"
   ]
  },
  {
   "cell_type": "code",
   "execution_count": 105,
   "metadata": {},
   "outputs": [
    {
     "name": "stderr",
     "output_type": "stream",
     "text": [
      "C:\\Users\\dell\\AppData\\Local\\Temp\\ipykernel_3292\\3616772455.py:12: UserWarning: \n",
      "\n",
      "`distplot` is a deprecated function and will be removed in seaborn v0.14.0.\n",
      "\n",
      "Please adapt your code to use either `displot` (a figure-level function with\n",
      "similar flexibility) or `histplot` (an axes-level function for histograms).\n",
      "\n",
      "For a guide to updating your code to use the new functions, please see\n",
      "https://gist.github.com/mwaskom/de44147ed2974457ad6372750bbe5751\n",
      "\n",
      "  sns.distplot(df['prep_time'], ax=ax, color='blue', hist=True, kde=True)\n"
     ]
    },
    {
     "data": {
      "image/png": "[encoded data removed]",
      "text/plain": [
       "<Figure size 800x600 with 1 Axes>"
      ]
     },
     "metadata": {},
     "output_type": "display_data"
    }
   ],
   "source": [
    "import pandas as pd\n",
    "import seaborn as sns\n",
    "import matplotlib.pyplot as plt\n",
    "\n",
    "# Assuming you have a DataFrame called 'df' with a 'prep_time' column\n",
    "# Replace 'df' with the actual name of your DataFrame\n",
    "\n",
    "# Plotting KDE and Histogram\n",
    "fig, ax = plt.subplots(figsize=(8, 6))\n",
    "\n",
    "# KDE plot and Histogram\n",
    "sns.distplot(df['prep_time'], ax=ax, color='blue', hist=True, kde=True)\n",
    "\n",
    "# Setting labels and titles\n",
    "ax.set_xlabel('Preparation Time')\n",
    "ax.set_ylabel('Density/Frequency')\n",
    "ax.set_title('Distribution of Preparation Time')\n",
    "\n",
    "# Display the plot\n",
    "plt.show()\n"
   ]
  },
  {
   "cell_type": "code",
   "execution_count": 106,
   "metadata": {},
   "outputs": [],
   "source": [
    "df.to_csv('../data/food_prediction_cleaned_data.csv')"
   ]
  },
  {
   "cell_type": "code",
   "execution_count": 107,
   "metadata": {},
   "outputs": [
    {
     "data": {
      "text/html": [
       "<div>\n",
       "<style scoped>\n",
       "    .dataframe tbody tr th:only-of-type {\n",
       "        vertical-align: middle;\n",
       "    }\n",
       "\n",
       "    .dataframe tbody tr th {\n",
       "        vertical-align: top;\n",
       "    }\n",
       "\n",
       "    .dataframe thead th {\n",
       "        text-align: right;\n",
       "    }\n",
       "</style>\n",
       "<table border=\"1\" class=\"dataframe\">\n",
       "  <thead>\n",
       "    <tr style=\"text-align: right;\">\n",
       "      <th></th>\n",
       "      <th>name</th>\n",
       "      <th>image_url</th>\n",
       "      <th>description</th>\n",
       "      <th>cuisine</th>\n",
       "      <th>course</th>\n",
       "      <th>diet</th>\n",
       "      <th>prep_time</th>\n",
       "      <th>ingredients</th>\n",
       "      <th>instructions</th>\n",
       "      <th>contain_milk</th>\n",
       "      <th>contain_curd</th>\n",
       "      <th>onion/garlic</th>\n",
       "    </tr>\n",
       "  </thead>\n",
       "  <tbody>\n",
       "    <tr>\n",
       "      <th>0</th>\n",
       "      <td>Thayir Semiya Recipe (Curd Semiya)</td>\n",
       "      <td>https://www.archanaskitchen.com/images/archana...</td>\n",
       "      <td>Thayir Semiya or Curd Vermicelli is a quick di...</td>\n",
       "      <td>Indian</td>\n",
       "      <td>Lunch</td>\n",
       "      <td>Vegetarian</td>\n",
       "      <td>35</td>\n",
       "      <td>1/2 cup semiya (vermicelli) , roasted  1 cup ...</td>\n",
       "      <td>To begin making the Thayir Semiya recipe, firs...</td>\n",
       "      <td>0</td>\n",
       "      <td>1</td>\n",
       "      <td>0</td>\n",
       "    </tr>\n",
       "  </tbody>\n",
       "</table>\n",
       "</div>"
      ],
      "text/plain": [
       "                                 name   \n",
       "0  Thayir Semiya Recipe (Curd Semiya)  \\\n",
       "\n",
       "                                           image_url   \n",
       "0  https://www.archanaskitchen.com/images/archana...  \\\n",
       "\n",
       "                                         description cuisine course   \n",
       "0  Thayir Semiya or Curd Vermicelli is a quick di...  Indian  Lunch  \\\n",
       "\n",
       "         diet  prep_time                                        ingredients   \n",
       "0  Vegetarian         35   1/2 cup semiya (vermicelli) , roasted  1 cup ...  \\\n",
       "\n",
       "                                        instructions contain_milk   \n",
       "0  To begin making the Thayir Semiya recipe, firs...            0  \\\n",
       "\n",
       "  contain_curd onion/garlic  \n",
       "0            1            0  "
      ]
     },
     "execution_count": 107,
     "metadata": {},
     "output_type": "execute_result"
    }
   ],
   "source": [
    "df.head(1)"
   ]
  },
  {
   "cell_type": "code",
   "execution_count": 108,
   "metadata": {},
   "outputs": [],
   "source": [
    "x = df[[\"cuisine\",\"course\",\"diet\",\"prep_time\",\"contain_milk\",\"contain_curd\",\"onion/garlic\"]]\n",
    "y = df['name']"
   ]
  },
  {
   "cell_type": "code",
   "execution_count": 109,
   "metadata": {},
   "outputs": [
    {
     "data": {
      "text/plain": [
       "0                      Thayir Semiya Recipe (Curd Semiya)\n",
       "1       Chettinad Style Kara Kuzhambu Recipe with Pota...\n",
       "2                Goan Chana Ros Recipe (White Peas Curry)\n",
       "3                   Minced Meat And Egg Croquettes Recipe\n",
       "4                                    Thekera Tenga Recipe\n",
       "                              ...                        \n",
       "4231    Stir Fry Green beans and Tofu with Panch Phoro...\n",
       "4232                     Dhuska Recipe (Rice Fried Bread)\n",
       "4233    Khatta Meetha Petha Recipe (Yellow Pumpkin Sabzi)\n",
       "4234    Patta Gobi Matar Nu Shaak Recipe (Cabbage & Pe...\n",
       "4235    Kerala Pumpkin Pachadi Recipe (Parangikai Pach...\n",
       "Name: name, Length: 4171, dtype: object"
      ]
     },
     "execution_count": 109,
     "metadata": {},
     "output_type": "execute_result"
    }
   ],
   "source": [
    "y"
   ]
  },
  {
   "cell_type": "code",
   "execution_count": 110,
   "metadata": {},
   "outputs": [],
   "source": [
    "from sklearn.model_selection import train_test_split\n",
    "X_train, X_test, y_train, y_test = train_test_split(x, y, test_size=0.25,random_state=2)"
   ]
  },
  {
   "cell_type": "code",
   "execution_count": 111,
   "metadata": {},
   "outputs": [
    {
     "data": {
      "text/html": [
       "<div>\n",
       "<style scoped>\n",
       "    .dataframe tbody tr th:only-of-type {\n",
       "        vertical-align: middle;\n",
       "    }\n",
       "\n",
       "    .dataframe tbody tr th {\n",
       "        vertical-align: top;\n",
       "    }\n",
       "\n",
       "    .dataframe thead th {\n",
       "        text-align: right;\n",
       "    }\n",
       "</style>\n",
       "<table border=\"1\" class=\"dataframe\">\n",
       "  <thead>\n",
       "    <tr style=\"text-align: right;\">\n",
       "      <th></th>\n",
       "      <th>cuisine</th>\n",
       "      <th>course</th>\n",
       "      <th>diet</th>\n",
       "      <th>prep_time</th>\n",
       "      <th>contain_milk</th>\n",
       "      <th>contain_curd</th>\n",
       "      <th>onion/garlic</th>\n",
       "    </tr>\n",
       "  </thead>\n",
       "  <tbody>\n",
       "    <tr>\n",
       "      <th>3905</th>\n",
       "      <td>North Indian Recipes</td>\n",
       "      <td>Dessert</td>\n",
       "      <td>Vegetarian</td>\n",
       "      <td>40</td>\n",
       "      <td>1</td>\n",
       "      <td>0</td>\n",
       "      <td>0</td>\n",
       "    </tr>\n",
       "    <tr>\n",
       "      <th>2420</th>\n",
       "      <td>South Karnataka</td>\n",
       "      <td>Snack</td>\n",
       "      <td>Vegetarian</td>\n",
       "      <td>180</td>\n",
       "      <td>0</td>\n",
       "      <td>0</td>\n",
       "      <td>0</td>\n",
       "    </tr>\n",
       "    <tr>\n",
       "      <th>2019</th>\n",
       "      <td>Andhra</td>\n",
       "      <td>Lunch</td>\n",
       "      <td>Vegetarian</td>\n",
       "      <td>45</td>\n",
       "      <td>0</td>\n",
       "      <td>0</td>\n",
       "      <td>1</td>\n",
       "    </tr>\n",
       "    <tr>\n",
       "      <th>1240</th>\n",
       "      <td>North Indian Recipes</td>\n",
       "      <td>Lunch</td>\n",
       "      <td>High Protein Vegetarian</td>\n",
       "      <td>30</td>\n",
       "      <td>0</td>\n",
       "      <td>0</td>\n",
       "      <td>1</td>\n",
       "    </tr>\n",
       "    <tr>\n",
       "      <th>2180</th>\n",
       "      <td>South Indian Recipes</td>\n",
       "      <td>Lunch</td>\n",
       "      <td>Vegetarian</td>\n",
       "      <td>50</td>\n",
       "      <td>0</td>\n",
       "      <td>0</td>\n",
       "      <td>0</td>\n",
       "    </tr>\n",
       "    <tr>\n",
       "      <th>...</th>\n",
       "      <td>...</td>\n",
       "      <td>...</td>\n",
       "      <td>...</td>\n",
       "      <td>...</td>\n",
       "      <td>...</td>\n",
       "      <td>...</td>\n",
       "      <td>...</td>\n",
       "    </tr>\n",
       "    <tr>\n",
       "      <th>3379</th>\n",
       "      <td>Mughlai</td>\n",
       "      <td>Indian Breakfast</td>\n",
       "      <td>Vegetarian</td>\n",
       "      <td>50</td>\n",
       "      <td>0</td>\n",
       "      <td>0</td>\n",
       "      <td>0</td>\n",
       "    </tr>\n",
       "    <tr>\n",
       "      <th>1108</th>\n",
       "      <td>North Karnataka</td>\n",
       "      <td>Side Dish</td>\n",
       "      <td>Vegetarian</td>\n",
       "      <td>30</td>\n",
       "      <td>0</td>\n",
       "      <td>0</td>\n",
       "      <td>1</td>\n",
       "    </tr>\n",
       "    <tr>\n",
       "      <th>2550</th>\n",
       "      <td>Kerala Recipes</td>\n",
       "      <td>Lunch</td>\n",
       "      <td>Vegetarian</td>\n",
       "      <td>50</td>\n",
       "      <td>0</td>\n",
       "      <td>0</td>\n",
       "      <td>0</td>\n",
       "    </tr>\n",
       "    <tr>\n",
       "      <th>3657</th>\n",
       "      <td>Indian</td>\n",
       "      <td>Lunch</td>\n",
       "      <td>High Protein Vegetarian</td>\n",
       "      <td>30</td>\n",
       "      <td>0</td>\n",
       "      <td>0</td>\n",
       "      <td>1</td>\n",
       "    </tr>\n",
       "    <tr>\n",
       "      <th>2611</th>\n",
       "      <td>South Indian Recipes</td>\n",
       "      <td>Snack</td>\n",
       "      <td>Gluten Free</td>\n",
       "      <td>30</td>\n",
       "      <td>0</td>\n",
       "      <td>0</td>\n",
       "      <td>0</td>\n",
       "    </tr>\n",
       "  </tbody>\n",
       "</table>\n",
       "<p>3128 rows × 7 columns</p>\n",
       "</div>"
      ],
      "text/plain": [
       "                   cuisine            course                     diet   \n",
       "3905  North Indian Recipes           Dessert               Vegetarian  \\\n",
       "2420       South Karnataka             Snack               Vegetarian   \n",
       "2019                Andhra             Lunch               Vegetarian   \n",
       "1240  North Indian Recipes             Lunch  High Protein Vegetarian   \n",
       "2180  South Indian Recipes             Lunch               Vegetarian   \n",
       "...                    ...               ...                      ...   \n",
       "3379               Mughlai  Indian Breakfast               Vegetarian   \n",
       "1108       North Karnataka         Side Dish               Vegetarian   \n",
       "2550        Kerala Recipes             Lunch               Vegetarian   \n",
       "3657                Indian             Lunch  High Protein Vegetarian   \n",
       "2611  South Indian Recipes             Snack              Gluten Free   \n",
       "\n",
       "      prep_time contain_milk contain_curd onion/garlic  \n",
       "3905         40            1            0            0  \n",
       "2420        180            0            0            0  \n",
       "2019         45            0            0            1  \n",
       "1240         30            0            0            1  \n",
       "2180         50            0            0            0  \n",
       "...         ...          ...          ...          ...  \n",
       "3379         50            0            0            0  \n",
       "1108         30            0            0            1  \n",
       "2550         50            0            0            0  \n",
       "3657         30            0            0            1  \n",
       "2611         30            0            0            0  \n",
       "\n",
       "[3128 rows x 7 columns]"
      ]
     },
     "execution_count": 111,
     "metadata": {},
     "output_type": "execute_result"
    }
   ],
   "source": [
    "X_train"
   ]
  },
  {
   "cell_type": "code",
   "execution_count": 112,
   "metadata": {},
   "outputs": [],
   "source": [
    "# importing libraries\n",
    "from sklearn.impute import SimpleImputer ## HAndling Missing Values\n",
    "from sklearn.preprocessing import StandardScaler # HAndling Feature Scaling\n",
    "from sklearn.preprocessing import OrdinalEncoder # Ordinal Encoding\n",
    "from sklearn.preprocessing import OneHotEncoder # Onehot Encoding\n",
    "## pipelines\n",
    "from sklearn.pipeline import Pipeline\n",
    "from sklearn.compose import ColumnTransformer"
   ]
  },
  {
   "cell_type": "code",
   "execution_count": 114,
   "metadata": {},
   "outputs": [],
   "source": [
    "categorical_cols = x.select_dtypes(include='object').columns\n",
    "numerical_cols = x.select_dtypes(exclude='object').columns"
   ]
  },
  {
   "cell_type": "code",
   "execution_count": 115,
   "metadata": {},
   "outputs": [
    {
     "name": "stdout",
     "output_type": "stream",
     "text": [
      "Index(['cuisine', 'course', 'diet', 'contain_milk', 'contain_curd',\n",
      "       'onion/garlic'],\n",
      "      dtype='object')\n",
      "Index(['prep_time'], dtype='object')\n"
     ]
    }
   ],
   "source": [
    "print(categorical_cols)\n",
    "print(numerical_cols)"
   ]
  },
  {
   "cell_type": "code",
   "execution_count": 116,
   "metadata": {},
   "outputs": [
    {
     "data": {
      "text/plain": [
       "dtype('int32')"
      ]
     },
     "execution_count": 116,
     "metadata": {},
     "output_type": "execute_result"
    }
   ],
   "source": [
    "df['prep_time'].dtype"
   ]
  },
  {
   "cell_type": "code",
   "execution_count": 117,
   "metadata": {},
   "outputs": [
    {
     "data": {
      "text/plain": [
       "dtype('O')"
      ]
     },
     "execution_count": 117,
     "metadata": {},
     "output_type": "execute_result"
    }
   ],
   "source": [
    "numerical_cols.dtype"
   ]
  },
  {
   "cell_type": "code",
   "execution_count": 119,
   "metadata": {},
   "outputs": [],
   "source": [
    "## Numerical Pipeline\n",
    "num_pipeline=Pipeline(\n",
    "    steps=[\n",
    "    ('scaler',StandardScaler(with_mean=False))\n",
    "\n",
    "    ]\n",
    ")\n",
    "\n",
    "# Categorigal Pipeline\n",
    "cat_pipeline=Pipeline(\n",
    "    steps=[\n",
    "    ('ordinalencoder',OneHotEncoder(sparse=False)),\n",
    "    ('scaler',StandardScaler(with_mean=False))\n",
    "    ]\n",
    ")\n",
    "\n",
    "#column transformer\n",
    "preprocessor=ColumnTransformer([\n",
    "('num_pipeline',num_pipeline,numerical_cols),\n",
    "('cat_pipeline',cat_pipeline,categorical_cols)\n",
    "])"
   ]
  },
  {
   "cell_type": "code",
   "execution_count": 120,
   "metadata": {},
   "outputs": [
    {
     "data": {
      "text/html": [
       "<div>\n",
       "<style scoped>\n",
       "    .dataframe tbody tr th:only-of-type {\n",
       "        vertical-align: middle;\n",
       "    }\n",
       "\n",
       "    .dataframe tbody tr th {\n",
       "        vertical-align: top;\n",
       "    }\n",
       "\n",
       "    .dataframe thead th {\n",
       "        text-align: right;\n",
       "    }\n",
       "</style>\n",
       "<table border=\"1\" class=\"dataframe\">\n",
       "  <thead>\n",
       "    <tr style=\"text-align: right;\">\n",
       "      <th></th>\n",
       "      <th>cuisine</th>\n",
       "      <th>course</th>\n",
       "      <th>diet</th>\n",
       "      <th>prep_time</th>\n",
       "      <th>contain_milk</th>\n",
       "      <th>contain_curd</th>\n",
       "      <th>onion/garlic</th>\n",
       "    </tr>\n",
       "  </thead>\n",
       "  <tbody>\n",
       "    <tr>\n",
       "      <th>1143</th>\n",
       "      <td>Karnataka</td>\n",
       "      <td>Side Dish</td>\n",
       "      <td>Vegetarian</td>\n",
       "      <td>25</td>\n",
       "      <td>0</td>\n",
       "      <td>0</td>\n",
       "      <td>0</td>\n",
       "    </tr>\n",
       "  </tbody>\n",
       "</table>\n",
       "</div>"
      ],
      "text/plain": [
       "        cuisine     course        diet  prep_time contain_milk contain_curd   \n",
       "1143  Karnataka  Side Dish  Vegetarian         25            0            0  \\\n",
       "\n",
       "     onion/garlic  \n",
       "1143            0  "
      ]
     },
     "execution_count": 120,
     "metadata": {},
     "output_type": "execute_result"
    }
   ],
   "source": [
    "X_test.head(1)"
   ]
  },
  {
   "cell_type": "code",
   "execution_count": 121,
   "metadata": {},
   "outputs": [
    {
     "name": "stdout",
     "output_type": "stream",
     "text": [
      "<class 'pandas.core.frame.DataFrame'>\n",
      "Index: 1043 entries, 1143 to 2137\n",
      "Data columns (total 7 columns):\n",
      " #   Column        Non-Null Count  Dtype \n",
      "---  ------        --------------  ----- \n",
      " 0   cuisine       1043 non-null   object\n",
      " 1   course        1043 non-null   object\n",
      " 2   diet          1043 non-null   object\n",
      " 3   prep_time     1043 non-null   int32 \n",
      " 4   contain_milk  1043 non-null   object\n",
      " 5   contain_curd  1043 non-null   object\n",
      " 6   onion/garlic  1043 non-null   object\n",
      "dtypes: int32(1), object(6)\n",
      "memory usage: 61.1+ KB\n"
     ]
    }
   ],
   "source": [
    "X_test.info()"
   ]
  },
  {
   "cell_type": "code",
   "execution_count": 54,
   "metadata": {},
   "outputs": [
    {
     "name": "stderr",
     "output_type": "stream",
     "text": [
      "f:\\Project\\food hub\\food_env\\Lib\\site-packages\\sklearn\\preprocessing\\_encoders.py:868: FutureWarning: `sparse` was renamed to `sparse_output` in version 1.2 and will be removed in 1.4. `sparse_output` is ignored unless you leave `sparse` to its default value.\n",
      "  warnings.warn(\n"
     ]
    }
   ],
   "source": [
    "X_train_processed=pd.DataFrame(preprocessor.fit_transform(X_train),columns=preprocessor.get_feature_names_out())\n",
    "X_test_processed=pd.DataFrame(preprocessor.transform(X_test),columns=preprocessor.get_feature_names_out())"
   ]
  },
  {
   "cell_type": "code",
   "execution_count": 66,
   "metadata": {},
   "outputs": [
    {
     "name": "stdout",
     "output_type": "stream",
     "text": [
      "<class 'pandas.core.frame.DataFrame'>\n",
      "RangeIndex: 3128 entries, 0 to 3127\n",
      "Data columns (total 83 columns):\n",
      " #   Column                                           Non-Null Count  Dtype  \n",
      "---  ------                                           --------------  -----  \n",
      " 0   num_pipeline__prep_time                          3128 non-null   float64\n",
      " 1   cat_pipeline__cuisine_Afghan                     3128 non-null   float64\n",
      " 2   cat_pipeline__cuisine_Andhra                     3128 non-null   float64\n",
      " 3   cat_pipeline__cuisine_Arab                       3128 non-null   float64\n",
      " 4   cat_pipeline__cuisine_Asian                      3128 non-null   float64\n",
      " 5   cat_pipeline__cuisine_Assamese                   3128 non-null   float64\n",
      " 6   cat_pipeline__cuisine_Awadhi                     3128 non-null   float64\n",
      " 7   cat_pipeline__cuisine_Bengali Recipes            3128 non-null   float64\n",
      " 8   cat_pipeline__cuisine_Bihari                     3128 non-null   float64\n",
      " 9   cat_pipeline__cuisine_Chettinad                  3128 non-null   float64\n",
      " 10  cat_pipeline__cuisine_Chinese                    3128 non-null   float64\n",
      " 11  cat_pipeline__cuisine_Coastal Karnataka          3128 non-null   float64\n",
      " 12  cat_pipeline__cuisine_Continental                3128 non-null   float64\n",
      " 13  cat_pipeline__cuisine_Coorg                      3128 non-null   float64\n",
      " 14  cat_pipeline__cuisine_Fusion                     3128 non-null   float64\n",
      " 15  cat_pipeline__cuisine_Goan Recipes               3128 non-null   float64\n",
      " 16  cat_pipeline__cuisine_Gujarati Recipes﻿          3128 non-null   float64\n",
      " 17  cat_pipeline__cuisine_Haryana                    3128 non-null   float64\n",
      " 18  cat_pipeline__cuisine_Himachal                   3128 non-null   float64\n",
      " 19  cat_pipeline__cuisine_Hyderabadi                 3128 non-null   float64\n",
      " 20  cat_pipeline__cuisine_Indian                     3128 non-null   float64\n",
      " 21  cat_pipeline__cuisine_Indo Chinese               3128 non-null   float64\n",
      " 22  cat_pipeline__cuisine_Jharkhand                  3128 non-null   float64\n",
      " 23  cat_pipeline__cuisine_Karnataka                  3128 non-null   float64\n",
      " 24  cat_pipeline__cuisine_Kashmiri                   3128 non-null   float64\n",
      " 25  cat_pipeline__cuisine_Kerala Recipes             3128 non-null   float64\n",
      " 26  cat_pipeline__cuisine_Kongunadu                  3128 non-null   float64\n",
      " 27  cat_pipeline__cuisine_Konkan                     3128 non-null   float64\n",
      " 28  cat_pipeline__cuisine_Lucknowi                   3128 non-null   float64\n",
      " 29  cat_pipeline__cuisine_Maharashtrian Recipes      3128 non-null   float64\n",
      " 30  cat_pipeline__cuisine_Malabar                    3128 non-null   float64\n",
      " 31  cat_pipeline__cuisine_Malvani                    3128 non-null   float64\n",
      " 32  cat_pipeline__cuisine_Mangalorean                3128 non-null   float64\n",
      " 33  cat_pipeline__cuisine_Middle Eastern             3128 non-null   float64\n",
      " 34  cat_pipeline__cuisine_Mughlai                    3128 non-null   float64\n",
      " 35  cat_pipeline__cuisine_Nagaland                   3128 non-null   float64\n",
      " 36  cat_pipeline__cuisine_Nepalese                   3128 non-null   float64\n",
      " 37  cat_pipeline__cuisine_North East India Recipes   3128 non-null   float64\n",
      " 38  cat_pipeline__cuisine_North Indian Recipes       3128 non-null   float64\n",
      " 39  cat_pipeline__cuisine_North Karnataka            3128 non-null   float64\n",
      " 40  cat_pipeline__cuisine_Oriya Recipes              3128 non-null   float64\n",
      " 41  cat_pipeline__cuisine_Pakistani                  3128 non-null   float64\n",
      " 42  cat_pipeline__cuisine_Parsi Recipes              3128 non-null   float64\n",
      " 43  cat_pipeline__cuisine_Punjabi                    3128 non-null   float64\n",
      " 44  cat_pipeline__cuisine_Rajasthani                 3128 non-null   float64\n",
      " 45  cat_pipeline__cuisine_Sichuan                    3128 non-null   float64\n",
      " 46  cat_pipeline__cuisine_Sindhi                     3128 non-null   float64\n",
      " 47  cat_pipeline__cuisine_South Indian Recipes       3128 non-null   float64\n",
      " 48  cat_pipeline__cuisine_South Karnataka            3128 non-null   float64\n",
      " 49  cat_pipeline__cuisine_Sri Lankan                 3128 non-null   float64\n",
      " 50  cat_pipeline__cuisine_Tamil Nadu                 3128 non-null   float64\n",
      " 51  cat_pipeline__cuisine_Thai                       3128 non-null   float64\n",
      " 52  cat_pipeline__cuisine_Udupi                      3128 non-null   float64\n",
      " 53  cat_pipeline__cuisine_Uttar Pradesh              3128 non-null   float64\n",
      " 54  cat_pipeline__cuisine_Uttarakhand-North Kumaon   3128 non-null   float64\n",
      " 55  cat_pipeline__course_Appetizer                   3128 non-null   float64\n",
      " 56  cat_pipeline__course_Brunch                      3128 non-null   float64\n",
      " 57  cat_pipeline__course_Dessert                     3128 non-null   float64\n",
      " 58  cat_pipeline__course_Dinner                      3128 non-null   float64\n",
      " 59  cat_pipeline__course_Indian Breakfast            3128 non-null   float64\n",
      " 60  cat_pipeline__course_Lunch                       3128 non-null   float64\n",
      " 61  cat_pipeline__course_Main Course                 3128 non-null   float64\n",
      " 62  cat_pipeline__course_North Indian Breakfast      3128 non-null   float64\n",
      " 63  cat_pipeline__course_One Pot Dish                3128 non-null   float64\n",
      " 64  cat_pipeline__course_Side Dish                   3128 non-null   float64\n",
      " 65  cat_pipeline__course_Snack                       3128 non-null   float64\n",
      " 66  cat_pipeline__course_South Indian Breakfast      3128 non-null   float64\n",
      " 67  cat_pipeline__course_World Breakfast             3128 non-null   float64\n",
      " 68  cat_pipeline__diet_Diabetic Friendly             3128 non-null   float64\n",
      " 69  cat_pipeline__diet_Eggetarian                    3128 non-null   float64\n",
      " 70  cat_pipeline__diet_Gluten Free                   3128 non-null   float64\n",
      " 71  cat_pipeline__diet_High Protein Non Vegetarian   3128 non-null   float64\n",
      " 72  cat_pipeline__diet_High Protein Vegetarian       3128 non-null   float64\n",
      " 73  cat_pipeline__diet_No Onion No Garlic (Sattvic)  3128 non-null   float64\n",
      " 74  cat_pipeline__diet_Non Vegeterian                3128 non-null   float64\n",
      " 75  cat_pipeline__diet_Vegan                         3128 non-null   float64\n",
      " 76  cat_pipeline__diet_Vegetarian                    3128 non-null   float64\n",
      " 77  cat_pipeline__contain_milk_0                     3128 non-null   float64\n",
      " 78  cat_pipeline__contain_milk_1                     3128 non-null   float64\n",
      " 79  cat_pipeline__contain_curd_0                     3128 non-null   float64\n",
      " 80  cat_pipeline__contain_curd_1                     3128 non-null   float64\n",
      " 81  cat_pipeline__onion/garlic_0                     3128 non-null   float64\n",
      " 82  cat_pipeline__onion/garlic_1                     3128 non-null   float64\n",
      "dtypes: float64(83)\n",
      "memory usage: 2.0 MB\n"
     ]
    }
   ],
   "source": [
    "X_train_processed.info()"
   ]
  },
  {
   "cell_type": "code",
   "execution_count": 55,
   "metadata": {},
   "outputs": [
    {
     "data": {
      "text/html": [
       "<div>\n",
       "<style scoped>\n",
       "    .dataframe tbody tr th:only-of-type {\n",
       "        vertical-align: middle;\n",
       "    }\n",
       "\n",
       "    .dataframe tbody tr th {\n",
       "        vertical-align: top;\n",
       "    }\n",
       "\n",
       "    .dataframe thead th {\n",
       "        text-align: right;\n",
       "    }\n",
       "</style>\n",
       "<table border=\"1\" class=\"dataframe\">\n",
       "  <thead>\n",
       "    <tr style=\"text-align: right;\">\n",
       "      <th></th>\n",
       "      <th>num_pipeline__prep_time</th>\n",
       "      <th>cat_pipeline__cuisine_Afghan</th>\n",
       "      <th>cat_pipeline__cuisine_Andhra</th>\n",
       "      <th>cat_pipeline__cuisine_Arab</th>\n",
       "      <th>cat_pipeline__cuisine_Asian</th>\n",
       "      <th>cat_pipeline__cuisine_Assamese</th>\n",
       "      <th>cat_pipeline__cuisine_Awadhi</th>\n",
       "      <th>cat_pipeline__cuisine_Bengali Recipes</th>\n",
       "      <th>cat_pipeline__cuisine_Bihari</th>\n",
       "      <th>cat_pipeline__cuisine_Chettinad</th>\n",
       "      <th>...</th>\n",
       "      <th>cat_pipeline__diet_No Onion No Garlic (Sattvic)</th>\n",
       "      <th>cat_pipeline__diet_Non Vegeterian</th>\n",
       "      <th>cat_pipeline__diet_Vegan</th>\n",
       "      <th>cat_pipeline__diet_Vegetarian</th>\n",
       "      <th>cat_pipeline__contain_milk_0</th>\n",
       "      <th>cat_pipeline__contain_milk_1</th>\n",
       "      <th>cat_pipeline__contain_curd_0</th>\n",
       "      <th>cat_pipeline__contain_curd_1</th>\n",
       "      <th>cat_pipeline__onion/garlic_0</th>\n",
       "      <th>cat_pipeline__onion/garlic_1</th>\n",
       "    </tr>\n",
       "  </thead>\n",
       "  <tbody>\n",
       "    <tr>\n",
       "      <th>0</th>\n",
       "      <td>0.363272</td>\n",
       "      <td>0.0</td>\n",
       "      <td>0.0</td>\n",
       "      <td>0.0</td>\n",
       "      <td>0.0</td>\n",
       "      <td>0.0</td>\n",
       "      <td>0.0</td>\n",
       "      <td>0.0</td>\n",
       "      <td>0.0</td>\n",
       "      <td>0.0</td>\n",
       "      <td>...</td>\n",
       "      <td>0.0</td>\n",
       "      <td>0.0</td>\n",
       "      <td>0.0</td>\n",
       "      <td>2.150034</td>\n",
       "      <td>3.238026</td>\n",
       "      <td>0.0</td>\n",
       "      <td>3.100114</td>\n",
       "      <td>0.0</td>\n",
       "      <td>2.044632</td>\n",
       "      <td>0.0</td>\n",
       "    </tr>\n",
       "  </tbody>\n",
       "</table>\n",
       "<p>1 rows × 83 columns</p>\n",
       "</div>"
      ],
      "text/plain": [
       "   num_pipeline__prep_time  cat_pipeline__cuisine_Afghan   \n",
       "0                 0.363272                           0.0  \\\n",
       "\n",
       "   cat_pipeline__cuisine_Andhra  cat_pipeline__cuisine_Arab   \n",
       "0                           0.0                         0.0  \\\n",
       "\n",
       "   cat_pipeline__cuisine_Asian  cat_pipeline__cuisine_Assamese   \n",
       "0                          0.0                             0.0  \\\n",
       "\n",
       "   cat_pipeline__cuisine_Awadhi  cat_pipeline__cuisine_Bengali Recipes   \n",
       "0                           0.0                                    0.0  \\\n",
       "\n",
       "   cat_pipeline__cuisine_Bihari  cat_pipeline__cuisine_Chettinad  ...   \n",
       "0                           0.0                              0.0  ...  \\\n",
       "\n",
       "   cat_pipeline__diet_No Onion No Garlic (Sattvic)   \n",
       "0                                              0.0  \\\n",
       "\n",
       "   cat_pipeline__diet_Non Vegeterian  cat_pipeline__diet_Vegan   \n",
       "0                                0.0                       0.0  \\\n",
       "\n",
       "   cat_pipeline__diet_Vegetarian  cat_pipeline__contain_milk_0   \n",
       "0                       2.150034                      3.238026  \\\n",
       "\n",
       "   cat_pipeline__contain_milk_1  cat_pipeline__contain_curd_0   \n",
       "0                           0.0                      3.100114  \\\n",
       "\n",
       "   cat_pipeline__contain_curd_1  cat_pipeline__onion/garlic_0   \n",
       "0                           0.0                      2.044632  \\\n",
       "\n",
       "   cat_pipeline__onion/garlic_1  \n",
       "0                           0.0  \n",
       "\n",
       "[1 rows x 83 columns]"
      ]
     },
     "execution_count": 55,
     "metadata": {},
     "output_type": "execute_result"
    }
   ],
   "source": [
    "X_test_processed.head(1)"
   ]
  },
  {
   "cell_type": "code",
   "execution_count": 56,
   "metadata": {},
   "outputs": [],
   "source": [
    "## Model Training\n",
    "\n",
    "from sklearn.ensemble import RandomForestClassifier\n",
    "from sklearn.linear_model import LogisticRegression\n",
    "from sklearn.svm import SVC"
   ]
  },
  {
   "cell_type": "code",
   "execution_count": 57,
   "metadata": {},
   "outputs": [],
   "source": [
    "import numpy as np\n",
    "from sklearn.metrics import accuracy_score\n",
    "\n",
    "def evaluate_model(true, predicted):\n",
    "    acc_score = accuracy_score(true, predicted)\n",
    "    return acc_score"
   ]
  },
  {
   "cell_type": "code",
   "execution_count": 58,
   "metadata": {},
   "outputs": [
    {
     "data": {
      "text/plain": [
       "3905                       Carrot Semolina Phirni Recipe \n",
       "2420     Akki Peni Sandige Recipe - Rice idiyappam Fryums\n",
       "2019    Gongura Pappu Recipe - Gongura/ Sorrel Leaves Dal\n",
       "1240                                       Dal Fry Recipe\n",
       "2180     Chow Chow Curry Recipe - Chayote Squash Stir Fry\n",
       "                              ...                        \n",
       "3379        डोली की रोटी - Doli Ki Roti (Recipe In Hindi)\n",
       "1108                         Gurellu Chutney Podi Recipe \n",
       "2550    केरल की कटहल सब्ज़ी रेसिपी - Kerala Style Jack ...\n",
       "3657                                    Soya Chunks Sabzi\n",
       "2611         Puli Upma Recipe - Tamarind & Rice Rava Upma\n",
       "Name: name, Length: 3128, dtype: object"
      ]
     },
     "execution_count": 58,
     "metadata": {},
     "output_type": "execute_result"
    }
   ],
   "source": [
    "y_train"
   ]
  },
  {
   "cell_type": "code",
   "execution_count": 59,
   "metadata": {},
   "outputs": [
    {
     "name": "stdout",
     "output_type": "stream",
     "text": [
      "RandomForest\n",
      "Model Training Performance\n",
      "Accuracy Score: 0.003835091083413231\n",
      "\n",
      "\n"
     ]
    }
   ],
   "source": [
    "## Train multiple models\n",
    "\n",
    "models={\n",
    "    'RandomForest':RandomForestClassifier(random_state=42),\n",
    "    # 'LogisticRegression':LogisticRegression(),\n",
    "    # 'SVM':SVC(kernel='poly', degree=3, C=1),\n",
    "}\n",
    "\n",
    "trained_model_list=[]\n",
    "model_list=[]\n",
    "\n",
    "for i in range(len(list(models))):\n",
    "    model=list(models.values())[i]\n",
    "    model.fit(X_train_processed,y_train)\n",
    "\n",
    "    #Make Predictions\n",
    "    y_pred=model.predict(X_test_processed)\n",
    "\n",
    "    acc_score=evaluate_model(y_test,y_pred)\n",
    "\n",
    "    print(list(models.keys())[i])\n",
    "    model_list.append(list(models.keys())[i])\n",
    "\n",
    "    print('Model Training Performance')\n",
    "    print(\"Accuracy Score:\",acc_score)\n",
    "    print('\\n')"
   ]
  },
  {
   "cell_type": "code",
   "execution_count": 60,
   "metadata": {},
   "outputs": [],
   "source": [
    "# import pickle\n",
    "# # Dump the trained Naive Bayes classifier with Pickle\n",
    "# XB_pkl_filename = '../models/XGBoost.pkl'\n",
    "# # Open the file to save as pkl file\n",
    "# XB_Model_pkl = open(XB_pkl_filename, 'wb')\n",
    "# pickle.dump(XB, XB_Model_pkl)\n",
    "# # Close the pickle instances\n",
    "# XB_Model_pkl.close()"
   ]
  },
  {
   "cell_type": "code",
   "execution_count": 61,
   "metadata": {},
   "outputs": [],
   "source": [
    "# import pickle\n",
    "\n",
    "# with open(\"model.pickle\", \"wb\") as f:\n",
    "#     pickle.dump(model, f)"
   ]
  },
  {
   "cell_type": "code",
   "execution_count": null,
   "metadata": {},
   "outputs": [],
   "source": []
  },
  {
   "cell_type": "code",
   "execution_count": null,
   "metadata": {},
   "outputs": [],
   "source": []
  },
  {
   "cell_type": "code",
   "execution_count": null,
   "metadata": {},
   "outputs": [],
   "source": []
  },
  {
   "cell_type": "code",
   "execution_count": null,
   "metadata": {},
   "outputs": [],
   "source": []
  },
  {
   "cell_type": "code",
   "execution_count": null,
   "metadata": {},
   "outputs": [],
   "source": []
  },
  {
   "cell_type": "code",
   "execution_count": null,
   "metadata": {},
   "outputs": [],
   "source": []
  },
  {
   "cell_type": "code",
   "execution_count": 62,
   "metadata": {},
   "outputs": [
    {
     "data": {
      "text/html": [
       "<div>\n",
       "<style scoped>\n",
       "    .dataframe tbody tr th:only-of-type {\n",
       "        vertical-align: middle;\n",
       "    }\n",
       "\n",
       "    .dataframe tbody tr th {\n",
       "        vertical-align: top;\n",
       "    }\n",
       "\n",
       "    .dataframe thead th {\n",
       "        text-align: right;\n",
       "    }\n",
       "</style>\n",
       "<table border=\"1\" class=\"dataframe\">\n",
       "  <thead>\n",
       "    <tr style=\"text-align: right;\">\n",
       "      <th></th>\n",
       "      <th>cuisine</th>\n",
       "      <th>course</th>\n",
       "      <th>diet</th>\n",
       "      <th>prep_time</th>\n",
       "      <th>contain_milk</th>\n",
       "      <th>contain_curd</th>\n",
       "      <th>onion/garlic</th>\n",
       "    </tr>\n",
       "  </thead>\n",
       "  <tbody>\n",
       "    <tr>\n",
       "      <th>458</th>\n",
       "      <td>Rajasthani</td>\n",
       "      <td>Dinner</td>\n",
       "      <td>Non Vegeterian</td>\n",
       "      <td>50</td>\n",
       "      <td>1</td>\n",
       "      <td>1</td>\n",
       "      <td>1</td>\n",
       "    </tr>\n",
       "  </tbody>\n",
       "</table>\n",
       "</div>"
      ],
      "text/plain": [
       "        cuisine  course            diet  prep_time contain_milk contain_curd   \n",
       "458  Rajasthani  Dinner  Non Vegeterian         50            1            1  \\\n",
       "\n",
       "    onion/garlic  \n",
       "458            1  "
      ]
     },
     "execution_count": 62,
     "metadata": {},
     "output_type": "execute_result"
    }
   ],
   "source": [
    "data = {\n",
    "    'cuisine': \"Rajasthani\",\n",
    "    'course': \"Dinner\",\n",
    "    'diet': \"Non Vegeterian\",\n",
    "    'prep_time': 50,\n",
    "    'contain_milk': \"1\",\n",
    "    'contain_curd': \"1\",\n",
    "    'onion/garlic': \"1\"\n",
    "}\n",
    "dfpd = pd.DataFrame(data,index=[458])\n",
    "dfpd"
   ]
  },
  {
   "cell_type": "code",
   "execution_count": 63,
   "metadata": {},
   "outputs": [],
   "source": [
    "X_test_one=pd.DataFrame(preprocessor.transform(dfpd),columns=preprocessor.get_feature_names_out())\n",
    "y_pred_one=model.predict(X_test_one)"
   ]
  },
  {
   "cell_type": "code",
   "execution_count": 64,
   "metadata": {},
   "outputs": [
    {
     "data": {
      "text/plain": [
       "array(['Rajasthani Style Mutton Banjara Recipe '], dtype=object)"
      ]
     },
     "execution_count": 64,
     "metadata": {},
     "output_type": "execute_result"
    }
   ],
   "source": [
    "y_pred_one"
   ]
  },
  {
   "cell_type": "code",
   "execution_count": 65,
   "metadata": {},
   "outputs": [
    {
     "data": {
      "text/html": [
       "<div>\n",
       "<style scoped>\n",
       "    .dataframe tbody tr th:only-of-type {\n",
       "        vertical-align: middle;\n",
       "    }\n",
       "\n",
       "    .dataframe tbody tr th {\n",
       "        vertical-align: top;\n",
       "    }\n",
       "\n",
       "    .dataframe thead th {\n",
       "        text-align: right;\n",
       "    }\n",
       "</style>\n",
       "<table border=\"1\" class=\"dataframe\">\n",
       "  <thead>\n",
       "    <tr style=\"text-align: right;\">\n",
       "      <th></th>\n",
       "      <th>name</th>\n",
       "      <th>image_url</th>\n",
       "      <th>description</th>\n",
       "      <th>cuisine</th>\n",
       "      <th>course</th>\n",
       "      <th>diet</th>\n",
       "      <th>prep_time</th>\n",
       "      <th>ingredients</th>\n",
       "      <th>instructions</th>\n",
       "      <th>contain_milk</th>\n",
       "      <th>contain_curd</th>\n",
       "      <th>onion/garlic</th>\n",
       "    </tr>\n",
       "  </thead>\n",
       "  <tbody>\n",
       "    <tr>\n",
       "      <th>586</th>\n",
       "      <td>Rajasthani Style Mutton Banjara Recipe</td>\n",
       "      <td>https://www.archanaskitchen.com/images/archana...</td>\n",
       "      <td>The easiest Mutton Curry made with simple ingr...</td>\n",
       "      <td>Rajasthani</td>\n",
       "      <td>Dinner</td>\n",
       "      <td>Non Vegeterian</td>\n",
       "      <td>50</td>\n",
       "      <td>750 grams mutton  2 tablespoons mustard oil  ...</td>\n",
       "      <td>To begin making the Rajasthani Mutton Banjara ...</td>\n",
       "      <td>0</td>\n",
       "      <td>1</td>\n",
       "      <td>1</td>\n",
       "    </tr>\n",
       "  </tbody>\n",
       "</table>\n",
       "</div>"
      ],
      "text/plain": [
       "                                        name   \n",
       "586  Rajasthani Style Mutton Banjara Recipe   \\\n",
       "\n",
       "                                             image_url   \n",
       "586  https://www.archanaskitchen.com/images/archana...  \\\n",
       "\n",
       "                                           description     cuisine  course   \n",
       "586  The easiest Mutton Curry made with simple ingr...  Rajasthani  Dinner  \\\n",
       "\n",
       "               diet  prep_time   \n",
       "586  Non Vegeterian         50  \\\n",
       "\n",
       "                                           ingredients   \n",
       "586   750 grams mutton  2 tablespoons mustard oil  ...  \\\n",
       "\n",
       "                                          instructions contain_milk   \n",
       "586  To begin making the Rajasthani Mutton Banjara ...            0  \\\n",
       "\n",
       "    contain_curd onion/garlic  \n",
       "586            1            1  "
      ]
     },
     "execution_count": 65,
     "metadata": {},
     "output_type": "execute_result"
    }
   ],
   "source": [
    "df[df['name']==\"Rajasthani Style Mutton Banjara Recipe \"]"
   ]
  },
  {
   "cell_type": "code",
   "execution_count": null,
   "metadata": {},
   "outputs": [],
   "source": []
  },
  {
   "cell_type": "code",
   "execution_count": null,
   "metadata": {},
   "outputs": [],
   "source": []
  },
  {
   "cell_type": "code",
   "execution_count": null,
   "metadata": {},
   "outputs": [],
   "source": []
  },
  {
   "cell_type": "code",
   "execution_count": null,
   "metadata": {},
   "outputs": [],
   "source": []
  },
  {
   "cell_type": "code",
   "execution_count": null,
   "metadata": {},
   "outputs": [],
   "source": []
  },
  {
   "cell_type": "code",
   "execution_count": null,
   "metadata": {},
   "outputs": [],
   "source": []
  },
  {
   "cell_type": "code",
   "execution_count": null,
   "metadata": {},
   "outputs": [],
   "source": []
  },
  {
   "cell_type": "code",
   "execution_count": null,
   "metadata": {},
   "outputs": [],
   "source": []
  }
 ],
 "metadata": {
  "kernelspec": {
   "display_name": "Python 3",
   "language": "python",
   "name": "python3"
  },
  "language_info": {
   "codemirror_mode": {
    "name": "ipython",
    "version": 3
   },
   "file_extension": ".py",
   "mimetype": "text/x-python",
   "name": "python",
   "nbconvert_exporter": "python",
   "pygments_lexer": "ipython3",
   "version": "3.11.3"
  },
  "orig_nbformat": 4
 },
 "nbformat": 4,
 "nbformat_minor": 2
}
