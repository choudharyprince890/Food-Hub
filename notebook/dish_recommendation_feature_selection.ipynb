{
 "cells": [
  {
   "cell_type": "code",
   "execution_count": 1,
   "metadata": {},
   "outputs": [],
   "source": [
    "import pandas as pd\n",
    "import numpy as np\n",
    "import pandas as pd\n",
    "import matplotlib.pyplot as plt"
   ]
  },
  {
   "cell_type": "code",
   "execution_count": 2,
   "metadata": {},
   "outputs": [],
   "source": [
    "df = pd.read_csv(\"../data/food_prediction_cleaned_data_again.csv\")"
   ]
  },
  {
   "cell_type": "code",
   "execution_count": 3,
   "metadata": {},
   "outputs": [
    {
     "data": {
      "text/html": [
       "<div>\n",
       "<style scoped>\n",
       "    .dataframe tbody tr th:only-of-type {\n",
       "        vertical-align: middle;\n",
       "    }\n",
       "\n",
       "    .dataframe tbody tr th {\n",
       "        vertical-align: top;\n",
       "    }\n",
       "\n",
       "    .dataframe thead th {\n",
       "        text-align: right;\n",
       "    }\n",
       "</style>\n",
       "<table border=\"1\" class=\"dataframe\">\n",
       "  <thead>\n",
       "    <tr style=\"text-align: right;\">\n",
       "      <th></th>\n",
       "      <th>name</th>\n",
       "      <th>cuisine</th>\n",
       "      <th>course</th>\n",
       "      <th>diet</th>\n",
       "      <th>prep_time</th>\n",
       "      <th>contain_milk</th>\n",
       "      <th>contain_curd</th>\n",
       "      <th>onion/garlic</th>\n",
       "    </tr>\n",
       "  </thead>\n",
       "  <tbody>\n",
       "    <tr>\n",
       "      <th>0</th>\n",
       "      <td>Thayir Semiya Recipe (Curd Semiya)</td>\n",
       "      <td>Indian</td>\n",
       "      <td>Lunch</td>\n",
       "      <td>Vegetarian</td>\n",
       "      <td>35</td>\n",
       "      <td>0</td>\n",
       "      <td>1</td>\n",
       "      <td>0</td>\n",
       "    </tr>\n",
       "    <tr>\n",
       "      <th>1</th>\n",
       "      <td>Chettinad Style Kara Kuzhambu Recipe with Pota...</td>\n",
       "      <td>South Indian Recipes</td>\n",
       "      <td>Lunch</td>\n",
       "      <td>Vegetarian</td>\n",
       "      <td>75</td>\n",
       "      <td>0</td>\n",
       "      <td>0</td>\n",
       "      <td>1</td>\n",
       "    </tr>\n",
       "    <tr>\n",
       "      <th>2</th>\n",
       "      <td>Goan Chana Ros Recipe (White Peas Curry)</td>\n",
       "      <td>Goan Recipes</td>\n",
       "      <td>Lunch</td>\n",
       "      <td>Vegetarian</td>\n",
       "      <td>530</td>\n",
       "      <td>0</td>\n",
       "      <td>0</td>\n",
       "      <td>1</td>\n",
       "    </tr>\n",
       "    <tr>\n",
       "      <th>3</th>\n",
       "      <td>Minced Meat And Egg Croquettes Recipe</td>\n",
       "      <td>North Indian Recipes</td>\n",
       "      <td>Appetizer</td>\n",
       "      <td>Non Vegeterian</td>\n",
       "      <td>55</td>\n",
       "      <td>0</td>\n",
       "      <td>0</td>\n",
       "      <td>1</td>\n",
       "    </tr>\n",
       "    <tr>\n",
       "      <th>4</th>\n",
       "      <td>Thekera Tenga Recipe</td>\n",
       "      <td>Assamese</td>\n",
       "      <td>Dinner</td>\n",
       "      <td>Vegetarian</td>\n",
       "      <td>30</td>\n",
       "      <td>0</td>\n",
       "      <td>0</td>\n",
       "      <td>0</td>\n",
       "    </tr>\n",
       "  </tbody>\n",
       "</table>\n",
       "</div>"
      ],
      "text/plain": [
       "                                                name               cuisine   \n",
       "0                 Thayir Semiya Recipe (Curd Semiya)                Indian  \\\n",
       "1  Chettinad Style Kara Kuzhambu Recipe with Pota...  South Indian Recipes   \n",
       "2           Goan Chana Ros Recipe (White Peas Curry)          Goan Recipes   \n",
       "3              Minced Meat And Egg Croquettes Recipe  North Indian Recipes   \n",
       "4                               Thekera Tenga Recipe              Assamese   \n",
       "\n",
       "      course            diet  prep_time  contain_milk  contain_curd   \n",
       "0      Lunch      Vegetarian         35             0             1  \\\n",
       "1      Lunch      Vegetarian         75             0             0   \n",
       "2      Lunch      Vegetarian        530             0             0   \n",
       "3  Appetizer  Non Vegeterian         55             0             0   \n",
       "4     Dinner      Vegetarian         30             0             0   \n",
       "\n",
       "   onion/garlic  \n",
       "0             0  \n",
       "1             1  \n",
       "2             1  \n",
       "3             1  \n",
       "4             0  "
      ]
     },
     "execution_count": 3,
     "metadata": {},
     "output_type": "execute_result"
    }
   ],
   "source": [
    "df.head(5)"
   ]
  },
  {
   "cell_type": "code",
   "execution_count": 4,
   "metadata": {},
   "outputs": [
    {
     "data": {
      "text/plain": [
       "(4170, 8)"
      ]
     },
     "execution_count": 4,
     "metadata": {},
     "output_type": "execute_result"
    }
   ],
   "source": [
    "df.shape"
   ]
  },
  {
   "cell_type": "code",
   "execution_count": 5,
   "metadata": {},
   "outputs": [
    {
     "name": "stdout",
     "output_type": "stream",
     "text": [
      "<class 'pandas.core.frame.DataFrame'>\n",
      "RangeIndex: 4170 entries, 0 to 4169\n",
      "Data columns (total 8 columns):\n",
      " #   Column        Non-Null Count  Dtype \n",
      "---  ------        --------------  ----- \n",
      " 0   name          4170 non-null   object\n",
      " 1   cuisine       4170 non-null   object\n",
      " 2   course        4170 non-null   object\n",
      " 3   diet          4170 non-null   object\n",
      " 4   prep_time     4170 non-null   int64 \n",
      " 5   contain_milk  4170 non-null   int64 \n",
      " 6   contain_curd  4170 non-null   int64 \n",
      " 7   onion/garlic  4170 non-null   int64 \n",
      "dtypes: int64(4), object(4)\n",
      "memory usage: 260.8+ KB\n"
     ]
    }
   ],
   "source": [
    "df.info()"
   ]
  },
  {
   "cell_type": "code",
   "execution_count": 6,
   "metadata": {},
   "outputs": [
    {
     "data": {
      "text/plain": [
       "course\n",
       "Lunch                     1631\n",
       "Side Dish                  852\n",
       "Dinner                     439\n",
       "Dessert                    384\n",
       "South Indian Breakfast     270\n",
       "Main Course                200\n",
       "North Indian Breakfast     119\n",
       "Appetizer                   91\n",
       "Snack                       82\n",
       "Indian Breakfast            75\n",
       "One Pot Dish                19\n",
       "World Breakfast              7\n",
       "Brunch                       1\n",
       "Name: count, dtype: int64"
      ]
     },
     "execution_count": 6,
     "metadata": {},
     "output_type": "execute_result"
    }
   ],
   "source": [
    "df['course'].value_counts()"
   ]
  },
  {
   "cell_type": "code",
   "execution_count": 7,
   "metadata": {},
   "outputs": [],
   "source": [
    "df.drop(df[df['course'] == 'One Pot Dish'].index,inplace=True)\n",
    "df.drop(df[df['course'] == 'World Breakfast'].index,inplace=True)\n",
    "df.drop(df[df['course'] == 'Brunch'].index,inplace=True)"
   ]
  },
  {
   "cell_type": "code",
   "execution_count": 8,
   "metadata": {},
   "outputs": [
    {
     "data": {
      "text/plain": [
       "<Axes: ylabel='Frequency'>"
      ]
     },
     "execution_count": 8,
     "metadata": {},
     "output_type": "execute_result"
    },
    {
     "data": {
      "image/png": "[encoded data removed]",
      "text/plain": [
       "<Figure size 640x480 with 1 Axes>"
      ]
     },
     "metadata": {},
     "output_type": "display_data"
    }
   ],
   "source": [
    "df['prep_time'].plot.hist(bins=10, edgecolor='black')"
   ]
  },
  {
   "cell_type": "code",
   "execution_count": 9,
   "metadata": {},
   "outputs": [],
   "source": [
    "df.drop(df[df['prep_time'] > 150].index,inplace=True)"
   ]
  },
  {
   "cell_type": "code",
   "execution_count": 10,
   "metadata": {},
   "outputs": [
    {
     "data": {
      "text/plain": [
       "<Axes: ylabel='Frequency'>"
      ]
     },
     "execution_count": 10,
     "metadata": {},
     "output_type": "execute_result"
    },
    {
     "data": {
      "image/png": "[encoded data removed]",
      "text/plain": [
       "<Figure size 640x480 with 1 Axes>"
      ]
     },
     "metadata": {},
     "output_type": "display_data"
    }
   ],
   "source": [
    "df['prep_time'].plot.hist(bins=10, edgecolor='black')"
   ]
  },
  {
   "cell_type": "code",
   "execution_count": 11,
   "metadata": {},
   "outputs": [
    {
     "data": {
      "text/plain": [
       "(3981, 8)"
      ]
     },
     "execution_count": 11,
     "metadata": {},
     "output_type": "execute_result"
    }
   ],
   "source": [
    "df.shape"
   ]
  },
  {
   "cell_type": "code",
   "execution_count": 12,
   "metadata": {},
   "outputs": [
    {
     "data": {
      "text/plain": [
       "array(['Indian', 'South Indian Recipes', 'North Indian Recipes',\n",
       "       'Assamese', 'Tamil Nadu', 'Karnataka', 'Malvani', 'Goan Recipes',\n",
       "       'Kerala Recipes', 'Gujarati Recipes\\ufeff', 'Sindhi', 'Konkan',\n",
       "       'Hyderabadi', 'Andhra', 'Coorg', 'Bengali Recipes', 'Mangalorean',\n",
       "       'Kongunadu', 'Punjabi', 'Udupi', 'Pakistani', 'Chettinad',\n",
       "       'Rajasthani', 'Nepalese', 'Coastal Karnataka', 'Indo Chinese',\n",
       "       'Parsi Recipes', 'Kashmiri', 'South Karnataka', 'Mughlai', 'Asian',\n",
       "       'Bihari', 'Maharashtrian Recipes', 'Himachal', 'Uttar Pradesh',\n",
       "       'North East India Recipes', 'Awadhi', 'Sichuan', 'North Karnataka',\n",
       "       'Middle Eastern', 'Oriya Recipes', 'Lucknowi', 'Chinese',\n",
       "       'Haryana', 'Fusion', 'Malabar', 'Continental', 'Jharkhand',\n",
       "       'Sri Lankan', 'Arab', 'Uttarakhand-North Kumaon ', 'Nagaland',\n",
       "       'Afghan'], dtype=object)"
      ]
     },
     "execution_count": 12,
     "metadata": {},
     "output_type": "execute_result"
    }
   ],
   "source": [
    "df['cuisine'].unique()"
   ]
  },
  {
   "cell_type": "code",
   "execution_count": 13,
   "metadata": {},
   "outputs": [],
   "source": [
    "df.drop(df[df['cuisine'] == \"Afghan\"].index,inplace=True)\n",
    "df.drop(df[df['cuisine'] == \"Sichuan\"].index,inplace=True)\n",
    "df.drop(df[df['cuisine'] == \"Arab\"].index,inplace=True)\n",
    "df.drop(df[df['cuisine'] == \"Indian\"].index,inplace=True)\n",
    "df.drop(df[df['cuisine'] == \"Chinese\"].index,inplace=True)\n",
    "df.drop(df[df['cuisine'] == \"Kongunadu\"].index,inplace=True)\n",
    "df.drop(df[df['cuisine'] == \"Continental\"].index,inplace=True)\n",
    "df.drop(df[df['cuisine'] == \"Nepalese\"].index,inplace=True)\n",
    "df.drop(df[df['cuisine'] == \"Indo Chinese\"].index,inplace=True)\n",
    "df.drop(df[df['cuisine'] == \"Middle Eastern\"].index,inplace=True)\n",
    "df.drop(df[df['cuisine'] == \"Malvani\"].index,inplace=True)\n",
    "df.drop(df[df['cuisine'] == \"Sri Lankan\"].index,inplace=True)\n",
    "df.drop(df[df['cuisine'] == \"Asian\"].index,inplace=True)\n",
    "df.drop(df[df['cuisine'] == \"Malabar\"].index,inplace=True)\n",
    "df.drop(df[df['cuisine'] == \"Pakistani\"].index,inplace=True)\n",
    "df.drop(df[df['cuisine'] == \"Uttarakhand-North Kumaon \"].index,inplace=True)\n",
    "df.drop(df[df['cuisine'] == \"Fusion\"].index,inplace=True)\n",
    "df.drop(df[df['cuisine'] == \"Jharkhand\"].index,inplace=True)\n",
    "df.drop(df[df['cuisine'] == \"Haryana\"].index,inplace=True)\n",
    "# df.drop(df[df['cuisine'] == \"South Karnataka\"].index,inplace=True)\n",
    "# df.drop(df[df['cuisine'] == \"Lucknowi\"].index,inplace=True)"
   ]
  },
  {
   "cell_type": "code",
   "execution_count": 14,
   "metadata": {},
   "outputs": [
    {
     "data": {
      "text/plain": [
       "diet\n",
       "Vegetarian                      2092\n",
       "High Protein Vegetarian          406\n",
       "Diabetic Friendly                182\n",
       "Non Vegeterian                   180\n",
       "High Protein Non Vegetarian      102\n",
       "Eggetarian                        60\n",
       "No Onion No Garlic (Sattvic)      56\n",
       "Gluten Free                       24\n",
       "Vegan                              9\n",
       "Name: count, dtype: int64"
      ]
     },
     "execution_count": 14,
     "metadata": {},
     "output_type": "execute_result"
    }
   ],
   "source": [
    "df['diet'].value_counts()"
   ]
  },
  {
   "cell_type": "code",
   "execution_count": 15,
   "metadata": {},
   "outputs": [
    {
     "data": {
      "text/plain": [
       "(3111, 8)"
      ]
     },
     "execution_count": 15,
     "metadata": {},
     "output_type": "execute_result"
    }
   ],
   "source": [
    "df.shape"
   ]
  },
  {
   "cell_type": "code",
   "execution_count": 16,
   "metadata": {},
   "outputs": [
    {
     "data": {
      "text/plain": [
       "cuisine\n",
       "North Indian Recipes        784\n",
       "South Indian Recipes        593\n",
       "Bengali Recipes             159\n",
       "Tamil Nadu                  152\n",
       "Kerala Recipes              144\n",
       "Maharashtrian Recipes       133\n",
       "Karnataka                   123\n",
       "Gujarati Recipes﻿           122\n",
       "Rajasthani                  114\n",
       "Andhra                      111\n",
       "Punjabi                      77\n",
       "Goan Recipes                 73\n",
       "Chettinad                    64\n",
       "Kashmiri                     53\n",
       "Mangalorean                  40\n",
       "Parsi Recipes                34\n",
       "Awadhi                       31\n",
       "Sindhi                       30\n",
       "Mughlai                      29\n",
       "Konkan                       28\n",
       "Hyderabadi                   27\n",
       "Oriya Recipes                27\n",
       "Assamese                     25\n",
       "North East India Recipes     18\n",
       "Bihari                       18\n",
       "Himachal                     16\n",
       "Coorg                        15\n",
       "Coastal Karnataka            14\n",
       "North Karnataka              14\n",
       "Udupi                        12\n",
       "Uttar Pradesh                11\n",
       "Lucknowi                      9\n",
       "South Karnataka               6\n",
       "Nagaland                      5\n",
       "Name: count, dtype: int64"
      ]
     },
     "execution_count": 16,
     "metadata": {},
     "output_type": "execute_result"
    }
   ],
   "source": [
    "df['cuisine'].value_counts()"
   ]
  },
  {
   "cell_type": "code",
   "execution_count": 17,
   "metadata": {},
   "outputs": [
    {
     "data": {
      "text/plain": [
       "(3111, 8)"
      ]
     },
     "execution_count": 17,
     "metadata": {},
     "output_type": "execute_result"
    }
   ],
   "source": [
    "df.shape"
   ]
  },
  {
   "cell_type": "code",
   "execution_count": 18,
   "metadata": {},
   "outputs": [
    {
     "data": {
      "text/html": [
       "<div>\n",
       "<style scoped>\n",
       "    .dataframe tbody tr th:only-of-type {\n",
       "        vertical-align: middle;\n",
       "    }\n",
       "\n",
       "    .dataframe tbody tr th {\n",
       "        vertical-align: top;\n",
       "    }\n",
       "\n",
       "    .dataframe thead th {\n",
       "        text-align: right;\n",
       "    }\n",
       "</style>\n",
       "<table border=\"1\" class=\"dataframe\">\n",
       "  <thead>\n",
       "    <tr style=\"text-align: right;\">\n",
       "      <th></th>\n",
       "      <th>name</th>\n",
       "      <th>cuisine</th>\n",
       "      <th>course</th>\n",
       "      <th>diet</th>\n",
       "      <th>prep_time</th>\n",
       "      <th>contain_milk</th>\n",
       "      <th>contain_curd</th>\n",
       "      <th>onion/garlic</th>\n",
       "    </tr>\n",
       "  </thead>\n",
       "  <tbody>\n",
       "    <tr>\n",
       "      <th>1</th>\n",
       "      <td>Chettinad Style Kara Kuzhambu Recipe with Pota...</td>\n",
       "      <td>South Indian Recipes</td>\n",
       "      <td>Lunch</td>\n",
       "      <td>Vegetarian</td>\n",
       "      <td>75</td>\n",
       "      <td>0</td>\n",
       "      <td>0</td>\n",
       "      <td>1</td>\n",
       "    </tr>\n",
       "    <tr>\n",
       "      <th>3</th>\n",
       "      <td>Minced Meat And Egg Croquettes Recipe</td>\n",
       "      <td>North Indian Recipes</td>\n",
       "      <td>Appetizer</td>\n",
       "      <td>Non Vegeterian</td>\n",
       "      <td>55</td>\n",
       "      <td>0</td>\n",
       "      <td>0</td>\n",
       "      <td>1</td>\n",
       "    </tr>\n",
       "    <tr>\n",
       "      <th>4</th>\n",
       "      <td>Thekera Tenga Recipe</td>\n",
       "      <td>Assamese</td>\n",
       "      <td>Dinner</td>\n",
       "      <td>Vegetarian</td>\n",
       "      <td>30</td>\n",
       "      <td>0</td>\n",
       "      <td>0</td>\n",
       "      <td>0</td>\n",
       "    </tr>\n",
       "    <tr>\n",
       "      <th>6</th>\n",
       "      <td>Mullangi Poriyal Recipe</td>\n",
       "      <td>Tamil Nadu</td>\n",
       "      <td>Dinner</td>\n",
       "      <td>Diabetic Friendly</td>\n",
       "      <td>40</td>\n",
       "      <td>0</td>\n",
       "      <td>0</td>\n",
       "      <td>0</td>\n",
       "    </tr>\n",
       "    <tr>\n",
       "      <th>7</th>\n",
       "      <td>Karwar Style Surana Bhaji Recipe - Hot and Sou...</td>\n",
       "      <td>Karnataka</td>\n",
       "      <td>Side Dish</td>\n",
       "      <td>Vegetarian</td>\n",
       "      <td>30</td>\n",
       "      <td>0</td>\n",
       "      <td>0</td>\n",
       "      <td>0</td>\n",
       "    </tr>\n",
       "  </tbody>\n",
       "</table>\n",
       "</div>"
      ],
      "text/plain": [
       "                                                name               cuisine   \n",
       "1  Chettinad Style Kara Kuzhambu Recipe with Pota...  South Indian Recipes  \\\n",
       "3              Minced Meat And Egg Croquettes Recipe  North Indian Recipes   \n",
       "4                               Thekera Tenga Recipe              Assamese   \n",
       "6                           Mullangi Poriyal Recipe             Tamil Nadu   \n",
       "7  Karwar Style Surana Bhaji Recipe - Hot and Sou...             Karnataka   \n",
       "\n",
       "      course               diet  prep_time  contain_milk  contain_curd   \n",
       "1      Lunch         Vegetarian         75             0             0  \\\n",
       "3  Appetizer     Non Vegeterian         55             0             0   \n",
       "4     Dinner         Vegetarian         30             0             0   \n",
       "6     Dinner  Diabetic Friendly         40             0             0   \n",
       "7  Side Dish         Vegetarian         30             0             0   \n",
       "\n",
       "   onion/garlic  \n",
       "1             1  \n",
       "3             1  \n",
       "4             0  \n",
       "6             0  \n",
       "7             0  "
      ]
     },
     "execution_count": 18,
     "metadata": {},
     "output_type": "execute_result"
    }
   ],
   "source": [
    "df.head(5)"
   ]
  },
  {
   "cell_type": "code",
   "execution_count": 19,
   "metadata": {},
   "outputs": [],
   "source": [
    "df.to_csv('food_prediction_cleaned_data_again2.csv', index=True)"
   ]
  },
  {
   "cell_type": "code",
   "execution_count": null,
   "metadata": {},
   "outputs": [],
   "source": []
  }
 ],
 "metadata": {
  "kernelspec": {
   "display_name": "Python 3",
   "language": "python",
   "name": "python3"
  },
  "language_info": {
   "codemirror_mode": {
    "name": "ipython",
    "version": 3
   },
   "file_extension": ".py",
   "mimetype": "text/x-python",
   "name": "python",
   "nbconvert_exporter": "python",
   "pygments_lexer": "ipython3",
   "version": "3.11.3"
  },
  "orig_nbformat": 4
 },
 "nbformat": 4,
 "nbformat_minor": 2
}
